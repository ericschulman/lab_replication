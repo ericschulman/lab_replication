{
 "cells": [
  {
   "cell_type": "code",
   "execution_count": 9,
   "id": "bac83d3b",
   "metadata": {},
   "outputs": [
    {
     "name": "stdout",
     "output_type": "stream",
     "text": [
      "The autoreload extension is already loaded. To reload it, use:\n",
      "  %reload_ext autoreload\n"
     ]
    }
   ],
   "source": [
    "%load_ext autoreload\n",
    "%autoreload 2\n",
    "\n",
    "import numpy as np\n",
    "import pandas as pd\n",
    "import datetime\n",
    "import scipy.stats as stats\n",
    "\n",
    "#graphing\n",
    "import matplotlib.pyplot as plt\n",
    "#stats\n",
    "import statsmodels.api as sm\n",
    "from statsmodels.base.model import GenericLikelihoodModel\n",
    "\n",
    "#import testing\n",
    "import sys\n",
    "sys.path.append(\"../\")\n",
    "import selection_tests"
   ]
  },
  {
   "cell_type": "code",
   "execution_count": 10,
   "id": "cf28bd13",
   "metadata": {},
   "outputs": [
    {
     "name": "stdout",
     "output_type": "stream",
     "text": [
      "Index(['NperPstk', 'v01', 'v02a1', 'v02b1a', 'v02b1b', 'v02b1c', 'v02c1',\n",
      "       'v02a2', 'v02b2a', 'v02b2b',\n",
      "       ...\n",
      "       'rememberStreetPrize', 'know_winnersA', 'know_winnersB',\n",
      "       'num_neighbors_bot', 'num_neighbor_tixbot', 'neighbor_bot',\n",
      "       'num_neighbors_botA', 'neighbor_botA', 'pstk', 'codegroup'],\n",
      "      dtype='object', length=342)\n"
     ]
    }
   ],
   "source": [
    "#need to replicate table 3?\n",
    "lotto_raw = pd.read_stata('FinalAnon.dta')\n",
    "print(lotto_raw.columns)"
   ]
  },
  {
   "cell_type": "code",
   "execution_count": 11,
   "id": "fc777de1",
   "metadata": {},
   "outputs": [],
   "source": [
    "lotto_data = lotto_raw.copy()\n",
    "lotto_data['winner']=0\n",
    "lotto_data['winner']= lotto_data['winner'] + (lotto_data['buyer']==1) + (lotto_data['win_code']==1)\n",
    "lotto_data['winnings']= lotto_data['winner']*lotto_data['winnings']\n",
    "lotto_data['sumwinnings']= lotto_data['sumwinnings']*lotto_data['winner']\n",
    "\n",
    "#For the regressions, winnings are measured in euros/10000: \n",
    "lotto_data['winnings']=lotto_data['winnings']/10000\n",
    "\n",
    "#Since it's not clear what is true for winners who report no winnings, drop these obs:\n",
    "\n",
    "#NON-LOTTERY INCOME VARIABLE: \n",
    "#(note we use income last year, to avoid the problem that some hh included lottery winnings in current income)\n",
    "#rescale own income to be in same units as lottery winnings (euro/10000):\n",
    "lotto_data['inc_now']=lotto_data['inc_now']/10000\n",
    "lotto_data['inc_then']=lotto_data['inc_then']/10000"
   ]
  },
  {
   "cell_type": "code",
   "execution_count": 12,
   "id": "aa93a363",
   "metadata": {},
   "outputs": [],
   "source": [
    "#global covariates\n",
    "global_cov = ['buyer','numtix','numtixsq',\n",
    "              'partner_now', 'persons_now', 'kids', 'kids_sq', 'age_fam', 'age_famsq'] \n",
    "global_cov = global_cov + ['ed'+str(i) for i in range(2,9)]"
   ]
  },
  {
   "cell_type": "code",
   "execution_count": 41,
   "id": "aee55f01",
   "metadata": {},
   "outputs": [
    {
     "data": {
      "text/plain": [
       "sumwinnings    0.016740\n",
       "inc_then       0.000633\n",
       "win_code       0.037133\n",
       "dtype: float64"
      ]
     },
     "execution_count": 41,
     "metadata": {},
     "output_type": "execute_result"
    }
   ],
   "source": [
    "depvar = 'newcar'\n",
    "absorb = 'codegroup' \n",
    "imporant_cov = ['sumwinnings','inc_then','win_code']\n",
    "\n",
    "lotto_data_clean = lotto_data.copy()\n",
    "lotto_data_clean = sm.add_constant(lotto_data_clean[[depvar]+imporant_cov+global_cov +[absorb]+['wonbmw']])\n",
    "lotto_data_clean = lotto_data_clean.dropna()\n",
    "#lotto_data_clean = lotto_data_clean[lotto_data_clean['wonbmw']!=1]\n",
    "\n",
    "y=lotto_data_clean[[depvar,absorb]]\n",
    "ybar = y.mean()\n",
    "y = y -  y.groupby(y[absorb]).transform('mean') + ybar\n",
    "y = y[depvar]\n",
    "\n",
    "X=lotto_data_clean[imporant_cov+['const']+global_cov+[absorb]]\n",
    "Xbar = X.mean()\n",
    "X = X - X.groupby(X[absorb]).transform('mean') + Xbar\n",
    "X = X[imporant_cov+['const']+global_cov]\n",
    "\n",
    "model = sm.OLS(y,X)\n",
    "model.fit().params\n",
    "model.fit().params[0:3]"
   ]
  },
  {
   "cell_type": "markdown",
   "id": "e3015af6",
   "metadata": {},
   "source": [
    "foreach dv in newcar numcars ageofmaincar totalcarunits {\n",
    "runregs `dv' `NW'"
   ]
  },
  {
   "cell_type": "markdown",
   "id": "9897b86b",
   "metadata": {},
   "source": [
    "capture program drop runregs\n",
    "program define runregs\n",
    "args depvar NW\n",
    "display \" \"\n",
    "display \" \"\n",
    "display \"Sample Restriction: \" \"$condition1\" \n",
    "*reg `depvar' sumwinnings inc_then `NW' $covariates buyer numtix numtixsq $condition1 , cluster (pstk)\n",
    "areg `depvar' sumwinnings inc_then `NW' $covariates buyer numtix numtixsq $condition1 , absorb(codegroup) cluster (pstk)\n",
    "test sumwinnings = inc_then\n",
    "display \" \"\n",
    "display \" \"\n",
    "end"
   ]
  }
 ],
 "metadata": {
  "kernelspec": {
   "display_name": "Python 3",
   "language": "python",
   "name": "python3"
  },
  "language_info": {
   "codemirror_mode": {
    "name": "ipython",
    "version": 3
   },
   "file_extension": ".py",
   "mimetype": "text/x-python",
   "name": "python",
   "nbconvert_exporter": "python",
   "pygments_lexer": "ipython3",
   "version": "3.8.8"
  }
 },
 "nbformat": 4,
 "nbformat_minor": 5
}
