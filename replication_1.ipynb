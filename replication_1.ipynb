{
 "cells": [
  {
   "cell_type": "code",
   "execution_count": 1,
   "id": "7d8bb8dd",
   "metadata": {},
   "outputs": [],
   "source": [
    "%load_ext autoreload\n",
    "%autoreload 2\n",
    "\n",
    "import numpy as np\n",
    "import pandas as pd\n",
    "import datetime\n",
    "import scipy.stats as stats\n",
    "\n",
    "#graphing\n",
    "import matplotlib.pyplot as plt\n",
    "#stats\n",
    "import statsmodels.api as sm\n",
    "from statsmodels.base.model import GenericLikelihoodModel\n",
    "\n",
    "#import testing\n",
    "import sys\n",
    "sys.path.append(\"../\")\n",
    "import selection_tests"
   ]
  },
  {
   "cell_type": "code",
   "execution_count": 2,
   "id": "a08e1d04",
   "metadata": {},
   "outputs": [
    {
     "name": "stdout",
     "output_type": "stream",
     "text": [
      "Index(['NperPstk', 'v01', 'v02a1', 'v02b1a', 'v02b1b', 'v02b1c', 'v02c1',\n",
      "       'v02a2', 'v02b2a', 'v02b2b',\n",
      "       ...\n",
      "       'rememberStreetPrize', 'know_winnersA', 'know_winnersB',\n",
      "       'num_neighbors_bot', 'num_neighbor_tixbot', 'neighbor_bot',\n",
      "       'num_neighbors_botA', 'neighbor_botA', 'pstk', 'codegroup'],\n",
      "      dtype='object', length=342)\n"
     ]
    }
   ],
   "source": [
    "#need to replicate table 3?\n",
    "lotto_raw = pd.read_stata('FinalAnon.dta')\n",
    "print(lotto_raw.columns)"
   ]
  },
  {
   "cell_type": "code",
   "execution_count": 3,
   "id": "e15dca43",
   "metadata": {},
   "outputs": [
    {
     "name": "stdout",
     "output_type": "stream",
     "text": [
      "(1879, 342) winner         0.118680\n",
      "winnings       0.220703\n",
      "sumwinnings    0.253965\n",
      "dtype: float64\n"
     ]
    }
   ],
   "source": [
    "lotto_data = lotto_raw.copy()\n",
    "lotto_data['winner']=0\n",
    "lotto_data['winner']= 1*( (lotto_data['buyer']>=1) & (lotto_data['win_code']>=1))\n",
    "lotto_data['winnings']= lotto_data['winner']*lotto_data['winnings']\n",
    "lotto_data['sumwinnings']= lotto_data['sumwinnings']*lotto_data['winner']\n",
    "\n",
    "#For the regressions, winnings are measured in euros/10000: \n",
    "lotto_data['winnings']=lotto_data['winnings']/10000\n",
    "print( lotto_data.shape, lotto_data[['winner','winnings','sumwinnings']].mean() )"
   ]
  },
  {
   "cell_type": "code",
   "execution_count": 4,
   "id": "611dcb79",
   "metadata": {},
   "outputs": [
    {
     "name": "stdout",
     "output_type": "stream",
     "text": [
      "1850\n",
      "2.1376288659793814\n",
      "(194, 342)\n"
     ]
    }
   ],
   "source": [
    "print((((lotto_data['winner']==1) & (lotto_data['winnings']==0))!=1).sum() )\n",
    "#Since it's not clear what is true for winners who report no winnings, drop these obs:\n",
    "lotto_data = lotto_data[  (((lotto_data['winner']==1) & (lotto_data['winnings']==0))!=1) ]\n",
    "lotto_data = lotto_data[  (((lotto_data['winner']==1) & (lotto_data['sumwinnings']==0))!=1) ]\n",
    "print(lotto_data[lotto_data['winner']==1]['winnings'].mean())\n",
    "print( lotto_data[lotto_data['winner']==1].shape)\n",
    "\n",
    "#NON-LOTTERY INCOME VARIABLE: \n",
    "#(note we use income last year, to avoid the problem that some hh included lottery winnings in current income)\n",
    "#rescale own income to be in same units as lottery winnings (euro/10000):\n",
    "lotto_data['inc_now']=lotto_data['inc_now']/10000\n",
    "lotto_data['inc_then']=lotto_data['inc_then']/10000"
   ]
  },
  {
   "cell_type": "code",
   "execution_count": 5,
   "id": "586d30c6",
   "metadata": {},
   "outputs": [
    {
     "name": "stdout",
     "output_type": "stream",
     "text": [
      "(1850, 342)\n",
      "(1825, 342)\n",
      "(1825, 342)\n",
      "0.1873259052924791 (1436,)\n"
     ]
    }
   ],
   "source": [
    "###############global covariates###################\n",
    "global_cov = ['buyer','numtix','numtixsq',\n",
    "              'partner_now', 'persons_now', 'kids', 'kids_sq', 'age_fam', 'age_famsq'] \n",
    "global_cov = global_cov + ['ed'+str(i) for i in range(2,9)]\n",
    "####################################################\n",
    "depvar = 'newcar'\n",
    "absorb = 'codegroup' \n",
    "imporant_cov = ['sumwinnings','inc_then','win_code']\n",
    "\n",
    "lotto_data_clean = lotto_data.copy()\n",
    "print(lotto_data_clean.shape)\n",
    "\n",
    "lotto_data_clean = lotto_data_clean[lotto_data_clean['wonbmw']!=1]\n",
    "print(lotto_data_clean.shape)\n",
    "print(lotto_data_clean.shape)\n",
    "print(lotto_data_clean['newcar'].dropna().mean(),lotto_data_clean['newcar'].dropna().shape )\n",
    "lotto_data_clean = sm.add_constant(lotto_data_clean[[depvar]+imporant_cov+global_cov +[absorb]])\n",
    "lotto_data_clean = lotto_data_clean.dropna()\n",
    "\n",
    "#should be 1389 observations?"
   ]
  },
  {
   "cell_type": "code",
   "execution_count": 6,
   "id": "63f71ca8",
   "metadata": {},
   "outputs": [
    {
     "name": "stdout",
     "output_type": "stream",
     "text": [
      "sumwinnings    0.020825\n",
      "inc_then      -0.000222\n",
      "win_code       0.045983\n",
      "dtype: float64\n"
     ]
    }
   ],
   "source": [
    "y=lotto_data_clean[[depvar,absorb]]\n",
    "ybar = y.mean()\n",
    "y = y -  y.groupby(y[absorb]).transform('mean') + ybar\n",
    "y = y[depvar]\n",
    "\n",
    "X=lotto_data_clean[imporant_cov+['const']+global_cov+[absorb]]\n",
    "Xbar = X.mean()\n",
    "X = X - X.groupby(X[absorb]).transform('mean') + Xbar\n",
    "X = X[imporant_cov+['const']+global_cov]\n",
    "\n",
    "model = sm.OLS(y,X)\n",
    "print(model.fit().params[0:3])"
   ]
  },
  {
   "cell_type": "code",
   "execution_count": null,
   "id": "faf26cac",
   "metadata": {},
   "outputs": [],
   "source": []
  },
  {
   "cell_type": "code",
   "execution_count": null,
   "id": "50f29552",
   "metadata": {},
   "outputs": [],
   "source": []
  },
  {
   "cell_type": "code",
   "execution_count": null,
   "id": "30da9176",
   "metadata": {},
   "outputs": [],
   "source": []
  }
 ],
 "metadata": {
  "kernelspec": {
   "display_name": "Python 3",
   "language": "python",
   "name": "python3"
  },
  "language_info": {
   "codemirror_mode": {
    "name": "ipython",
    "version": 3
   },
   "file_extension": ".py",
   "mimetype": "text/x-python",
   "name": "python",
   "nbconvert_exporter": "python",
   "pygments_lexer": "ipython3",
   "version": "3.8.8"
  }
 },
 "nbformat": 4,
 "nbformat_minor": 5
}
