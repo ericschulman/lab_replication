{
 "cells": [
  {
   "cell_type": "code",
   "execution_count": 14,
   "metadata": {},
   "outputs": [
    {
     "name": "stdout",
     "output_type": "stream",
     "text": [
      "The autoreload extension is already loaded. To reload it, use:\n",
      "  %reload_ext autoreload\n"
     ]
    }
   ],
   "source": [
    "%load_ext autoreload\n",
    "%autoreload 2\n",
    "\n",
    "import numpy as np\n",
    "import pandas as pd\n",
    "import datetime\n",
    "import scipy.stats as stats\n",
    "\n",
    "#graphing\n",
    "import matplotlib.pyplot as plt\n",
    "#stats\n",
    "import statsmodels.api as sm\n",
    "from statsmodels.base.model import GenericLikelihoodModel\n",
    "\n",
    "#import testing\n",
    "import sys\n",
    "sys.path.append(\"../\")\n",
    "import selection_tests"
   ]
  },
  {
   "cell_type": "code",
   "execution_count": 15,
   "metadata": {},
   "outputs": [
    {
     "name": "stdout",
     "output_type": "stream",
     "text": [
      "[0.75       0.15       0.08333333 0.01666667]\n",
      "(60,)\n"
     ]
    }
   ],
   "source": [
    "class DiscreteOutcomes(GenericLikelihoodModel):\n",
    "    \n",
    "    def __init__(self, *args,ols=False, **kwargs):\n",
    "        super(DiscreteOutcomes,self).__init__(*args,**kwargs)\n",
    "\n",
    "    def loglikeobs(self, params):\n",
    "        y = self.endog\n",
    "        x = self.exog\n",
    "        present_bias = x[:,0]\n",
    "        future_bias = x[:,1]\n",
    "        likelihood = np.ones(y.shape[0])\n",
    "        if len(params) == 4:\n",
    "            likelihood = (params[0]*present_bias*(1-future_bias) +\n",
    "                      params[1]*(1-present_bias)*future_bias + \n",
    "                      params[2]*(future_bias)*(present_bias) +\n",
    "                      params[3]*(1-present_bias)*(1-future_bias))\n",
    "        if len(params) == 2:\n",
    "            likelihood = (params[0]*present_bias*(1-future_bias) +\n",
    "                      params[1]*((1-present_bias)*future_bias + \n",
    "                      (future_bias)*(present_bias) +\n",
    "                      (1-present_bias)*(1-future_bias)))\n",
    "                          \n",
    "        return np.log(likelihood)\n",
    "\n",
    "def return_params(xn):\n",
    "    xn = np.array(xn)\n",
    "    present_bias = xn[:,0]\n",
    "    future_bias = xn[:,1]\n",
    "    return np.array([(present_bias*(1-future_bias)).mean(),\n",
    "            ((1-present_bias)*future_bias).mean(), \n",
    "            ((future_bias)*(present_bias)).mean(),\n",
    "            ((1-present_bias)*(1-future_bias)).mean()])\n",
    "\n",
    "\n",
    "data = pd.read_csv('biases.csv',index_col=0)\n",
    "params = np.array([19/64,19/64,18/64,8/64])\n",
    "print(return_params(data[['present_bias','future_bias']]))\n",
    "model1_deriv = DiscreteOutcomes(data['client'],data[['present_bias','future_bias']])\n",
    "ll1 = model1_deriv.loglikeobs(params)\n",
    "grad1 =  model1_deriv.score_obs(params)\n",
    "hess1 = model1_deriv.hessian(params)\n",
    "print(ll1.shape)"
   ]
  },
  {
   "cell_type": "code",
   "execution_count": 16,
   "metadata": {},
   "outputs": [],
   "source": [
    "def setup_test(yn,xn,return_model=False,test1=True):\n",
    "    # model 1 grad, etc.\n",
    "    params1 = return_params(xn)\n",
    "    if not test1:\n",
    "        params1 = np.array([51/100,49/100])\n",
    "    model1_deriv = DiscreteOutcomes(yn,xn)\n",
    "    ll1 = model1_deriv.loglikeobs(params1)\n",
    "    grad1 =  model1_deriv.score_obs(params1)    \n",
    "    hess1 = model1_deriv.hessian(params1)\n",
    "\n",
    "    #19/64, 19/64, 18/64, 8/64\n",
    "    params2 = np.array([19/64,19/64,18/64,8/64])\n",
    "    model2_deriv = DiscreteOutcomes(yn,xn)\n",
    "    ll2 = model2_deriv.loglikeobs(params2)\n",
    "    grad2 =  model2_deriv.score_obs(params2)    \n",
    "    hess2 = model2_deriv.hessian(params2)\n",
    "    \n",
    "    return ll1,grad1,hess1,params1,ll2,grad2,hess2,params2\n",
    "\n"
   ]
  },
  {
   "cell_type": "code",
   "execution_count": 17,
   "metadata": {},
   "outputs": [
    {
     "name": "stdout",
     "output_type": "stream",
     "text": [
      "regular: test, llr, omega ----\n",
      "4.251283219590945 27.463328859966698 0.8339836061412603\n",
      "---- \n",
      "\\begin{center}\n",
      "\\begin{tabular}{ccccc}\n",
      "\\toprule\n",
      "\\textbf{Version} & \\textbf{Result} & \\textbf{90 \\% CI} & \\textbf{95 \\% CI} & \\textbf{99 \\% CI} \\\\ \\midrule\n",
      "Shi (2015) & H0 & [1.787, 6.715] & [-0.014, 8.517] & [-26.911, 35.413] \\\\\n",
      "Classical & H1 & [2.606, 5.896] & [2.292, 6.210] & [1.675, 6.827] \\\\\n",
      "Bootstrap & H1 & [2.102, 7.022] & [1.813, 7.694] & [1.345, 9.500] \\\\\n",
      "\\bottomrule\n",
      "\\end{tabular}\n",
      "\\end{center}\n",
      "None\n"
     ]
    },
    {
     "name": "stderr",
     "output_type": "stream",
     "text": [
      "../selection_tests.py:141: ComplexWarning: Casting complex values to real discards the imaginary part\n",
      "  print('Shi (2015) & H%s & [%.3f, %.3f] & [%.3f, %.3f] & [%.3f, %.3f] \\\\\\\\'%(result_shi,\n",
      "../selection_tests.py:149: ComplexWarning: Casting complex values to real discards the imaginary part\n",
      "  print('Bootstrap & H%s & [%.3f, %.3f] & [%.3f, %.3f] & [%.3f, %.3f] \\\\\\\\'%(result_boot,\n"
     ]
    }
   ],
   "source": [
    "setup_test1 = lambda yn,xn: setup_test(yn,xn,test1=False)\n",
    "\n",
    "print(selection_tests.test_table(data['client'], data[['present_bias','future_bias']],\n",
    "                                 setup_test))"
   ]
  },
  {
   "cell_type": "code",
   "execution_count": 18,
   "metadata": {},
   "outputs": [
    {
     "name": "stdout",
     "output_type": "stream",
     "text": [
      "regular: test, llr, omega ----\n",
      "39.693457727478176 33.00122658040044 0.10733355760860354\n",
      "---- \n",
      "\\begin{center}\n",
      "\\begin{tabular}{ccccc}\n",
      "\\toprule\n",
      "\\textbf{Version} & \\textbf{Result} & \\textbf{90 \\% CI} & \\textbf{95 \\% CI} & \\textbf{99 \\% CI} \\\\ \\midrule\n",
      "Shi (2015) & H1 & [38.236, 43.598] & [38.215, 43.618] & [36.791, 45.043] \\\\\n",
      "Classical & H1 & [38.048, 41.338] & [37.734, 41.652] & [37.117, 42.269] \\\\\n",
      "Bootstrap & H1 & [25.378, 327.034] & [25.137, 357.371] & [22.481, 405.740] \\\\\n",
      "\\bottomrule\n",
      "\\end{tabular}\n",
      "\\end{center}\n",
      "None\n"
     ]
    },
    {
     "name": "stderr",
     "output_type": "stream",
     "text": [
      "../selection_tests.py:141: ComplexWarning: Casting complex values to real discards the imaginary part\n",
      "  print('Shi (2015) & H%s & [%.3f, %.3f] & [%.3f, %.3f] & [%.3f, %.3f] \\\\\\\\'%(result_shi,\n",
      "../selection_tests.py:149: ComplexWarning: Casting complex values to real discards the imaginary part\n",
      "  print('Bootstrap & H%s & [%.3f, %.3f] & [%.3f, %.3f] & [%.3f, %.3f] \\\\\\\\'%(result_boot,\n"
     ]
    }
   ],
   "source": [
    "print(selection_tests.test_table(data['client'],data[['present_bias','future_bias']],\n",
    "                                 setup_test1))"
   ]
  },
  {
   "cell_type": "code",
   "execution_count": 19,
   "metadata": {},
   "outputs": [
    {
     "data": {
      "image/png": "[encoded data removed]",
      "text/plain": [
       "<Figure size 432x288 with 1 Axes>"
      ]
     },
     "metadata": {
      "needs_background": "light"
     },
     "output_type": "display_data"
    }
   ],
   "source": [
    "labels = [\"Present Bias\", \"Future Bias\", \"Inconsistent\\n bias\",\"Time Consistent\"]\n",
    "\n",
    "# Position of bars on x-axis\n",
    "ind = np.arange(len(labels))\n",
    "\n",
    "# Width of a bar \n",
    "width = 0.3       \n",
    "\n",
    "# Plotting\n",
    "plt.bar(ind, return_params(data[['present_bias','future_bias']]) , width, label='Actual')\n",
    "plt.bar(ind + width, [19/64,19/64,18/64,8/64], width, label='Expected if random')\n",
    "\n",
    "plt.ylabel('Density')\n",
    "# First argument - A list of positions at which ticks should be placed\n",
    "# Second argument -  A list of labels to place at the given locations\n",
    "plt.xticks(ind + width / 2, labels)\n",
    "\n",
    "# Finding the best position for legends and putting it\n",
    "plt.legend(loc='best')\n",
    "plt.savefig('time_consist.png',dpi=500)\n",
    "plt.show()"
   ]
  },
  {
   "cell_type": "code",
   "execution_count": null,
   "metadata": {},
   "outputs": [],
   "source": []
  },
  {
   "cell_type": "code",
   "execution_count": null,
   "metadata": {},
   "outputs": [],
   "source": []
  },
  {
   "cell_type": "code",
   "execution_count": null,
   "metadata": {},
   "outputs": [],
   "source": []
  }
 ],
 "metadata": {
  "kernelspec": {
   "display_name": "Python 3",
   "language": "python",
   "name": "python3"
  },
  "language_info": {
   "codemirror_mode": {
    "name": "ipython",
    "version": 3
   },
   "file_extension": ".py",
   "mimetype": "text/x-python",
   "name": "python",
   "nbconvert_exporter": "python",
   "pygments_lexer": "ipython3",
   "version": "3.8.8"
  }
 },
 "nbformat": 4,
 "nbformat_minor": 2
}
