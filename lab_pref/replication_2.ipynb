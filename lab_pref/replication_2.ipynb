{
 "cells": [
  {
   "cell_type": "code",
   "execution_count": 1,
   "id": "6d9144a3",
   "metadata": {},
   "outputs": [],
   "source": [
    "import pandas as pd\n",
    "import numpy as np\n",
    "import matplotlib.pyplot as plt"
   ]
  },
  {
   "cell_type": "code",
   "execution_count": 2,
   "id": "b583fc8e",
   "metadata": {},
   "outputs": [],
   "source": [
    "columns_names = ['session','client','?','choice'] + [\"option_0\"+str(i) for i in range(1,4)] + [\"option_1\"+str(i) for i in range(1,4)]\n",
    "\n",
    "data = pd.read_csv(\"data_for_matlab.csv\",header=None,index_col=None, names=columns_names )"
   ]
  },
  {
   "cell_type": "code",
   "execution_count": 3,
   "id": "394aa8e1",
   "metadata": {},
   "outputs": [
    {
     "data": {
      "text/plain": [
       "?\n",
       "1     0.833333\n",
       "2     0.466667\n",
       "3     0.783333\n",
       "4     0.266667\n",
       "5     0.733333\n",
       "6     0.333333\n",
       "7     0.583333\n",
       "8     0.333333\n",
       "9     0.833333\n",
       "10    0.533333\n",
       "11    0.416667\n",
       "12    0.166667\n",
       "13    0.816667\n",
       "14    0.250000\n",
       "15    0.875000\n",
       "16    0.291667\n",
       "17    0.800000\n",
       "18    0.375000\n",
       "19    0.375000\n",
       "20    0.750000\n",
       "21    0.625000\n",
       "22    0.583333\n",
       "23    0.333333\n",
       "24    0.458333\n",
       "25    0.208333\n",
       "26    0.208333\n",
       "27    0.833333\n",
       "28    0.291667\n",
       "29    0.666667\n",
       "30    0.208333\n",
       "31    0.208333\n",
       "32    0.416667\n",
       "33    0.625000\n",
       "34    0.250000\n",
       "35    0.916667\n",
       "36    0.250000\n",
       "37    0.750000\n",
       "38    0.208333\n",
       "Name: choice, dtype: float64"
      ]
     },
     "execution_count": 3,
     "metadata": {},
     "output_type": "execute_result"
    }
   ],
   "source": [
    "#replicate table 1\n",
    "1-data.groupby('?')['choice'].mean()"
   ]
  },
  {
   "cell_type": "code",
   "execution_count": 4,
   "id": "42ec3d93",
   "metadata": {},
   "outputs": [],
   "source": [
    "#present biased-01\n",
    "#a1 c1, a2 c2\n",
    "\n",
    "#future biased - 10\n",
    "#-a2 c1, a1 c2\n",
    "\n",
    "#time consistent -00,11,  \n",
    "#a1 c1 +a1 c2 or a2 c1 +a2 c2"
   ]
  },
  {
   "cell_type": "code",
   "execution_count": 5,
   "id": "fcfbc6c4",
   "metadata": {
    "scrolled": false
   },
   "outputs": [
    {
     "name": "stdout",
     "output_type": "stream",
     "text": [
      "0.75\n",
      "0.15\n",
      "0.08333333333333333\n",
      "0.016666666666666666\n"
     ]
    }
   ],
   "source": [
    "#four outcomes based on 1-6\n",
    "\n",
    "#old_data = data.copy()\n",
    "#data['choice'] = np.random.randint(0, 2, size=data.shape[0])\n",
    "\n",
    "biases = pd.DataFrame()\n",
    "client_names = data['client'] + (data['session']-5)*36\n",
    "biases['client'] = client_names.unique()\n",
    "\n",
    "present_biases = []\n",
    "future_biases = []\n",
    "for client in client_names.unique():\n",
    "    obs = (data['client'] + (data['session']-5)*36 == client)\n",
    "    #first check 1-2\n",
    "    present_bias = 0\n",
    "    future_bias = 0\n",
    "    for i in range(3):\n",
    "        \n",
    "        choice1 = int(data['choice'][ (data['?']==(1+2*i)) & obs ])\n",
    "        choice2 = int(data['choice'][ (data['?']==(2+2*i)) & obs ])\n",
    "        present_bias_i = (1-choice1)*choice2\n",
    "        present_bias = max(present_bias_i,present_bias)\n",
    "        future_bias_i = (1-choice2)*choice1\n",
    "        future_bias = max(future_bias_i,future_bias)\n",
    "        #print((1+2*i),(2+2*i))\n",
    "        #print(choice1,choice2)\n",
    "        #print(present_bias_i,future_bias_i)\n",
    "        #print('-----')\n",
    "  \n",
    "    present_biases.append(present_bias)\n",
    "    future_biases.append(future_bias)\n",
    "\n",
    "    #next check 2-3\n",
    "    \n",
    "    #next check 3-4\n",
    "    \n",
    "\n",
    "\n",
    "biases['present_bias'] = present_biases\n",
    "biases['future_bias'] = future_biases\n",
    "biases.to_csv('biases.csv')\n",
    "#print(biases)\n",
    "print( (biases['present_bias']*(1-biases['future_bias'])).mean() )\n",
    "print( (biases['future_bias']*(1-biases['present_bias'])).mean() )\n",
    "print( (biases['future_bias']*biases['present_bias']).mean() )\n",
    "print( ( (1-biases['present_bias'])*(1-biases['future_bias'])).mean() )\n"
   ]
  },
  {
   "cell_type": "code",
   "execution_count": 6,
   "id": "0bc99100",
   "metadata": {},
   "outputs": [
    {
     "name": "stdout",
     "output_type": "stream",
     "text": [
      "0.421875\n",
      "0.125\n"
     ]
    }
   ],
   "source": [
    "#if random chance...\n",
    "#0.3333333333333333\n",
    "#0.2833333333333333\n",
    "#0.2833333333333333\n",
    "#0.1\n",
    "\n",
    "#present biased odds with random?/also future bias?\n",
    "print(3*(.25)*.75*.75)\n",
    "# odds of time consistent?\n",
    "print((.5)**3)"
   ]
  },
  {
   "cell_type": "code",
   "execution_count": 7,
   "id": "442b7148",
   "metadata": {},
   "outputs": [
    {
     "name": "stdout",
     "output_type": "stream",
     "text": [
      "0.328125\n",
      "0.421875\n"
     ]
    }
   ],
   "source": [
    "\n",
    "print(3*(1+3+3)/(2**6))\n",
    "\n",
    "#not sure why this isn't right? 27/64 is too much? 21/64 seems right?\n",
    "print(3*1/4*3/4*3/4)"
   ]
  },
  {
   "cell_type": "code",
   "execution_count": null,
   "id": "d68b6dc9",
   "metadata": {},
   "outputs": [],
   "source": []
  }
 ],
 "metadata": {
  "kernelspec": {
   "display_name": "Python 3 (ipykernel)",
   "language": "python",
   "name": "python3"
  },
  "language_info": {
   "codemirror_mode": {
    "name": "ipython",
    "version": 3
   },
   "file_extension": ".py",
   "mimetype": "text/x-python",
   "name": "python",
   "nbconvert_exporter": "python",
   "pygments_lexer": "ipython3",
   "version": "3.9.7"
  }
 },
 "nbformat": 4,
 "nbformat_minor": 5
}
