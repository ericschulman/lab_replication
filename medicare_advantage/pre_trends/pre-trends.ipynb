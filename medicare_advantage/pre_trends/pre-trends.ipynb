{
 "cells": [
  {
   "cell_type": "code",
   "execution_count": 1,
   "id": "9f753573",
   "metadata": {},
   "outputs": [],
   "source": [
    "%load_ext autoreload\n",
    "%autoreload 2\n",
    "\n",
    "import numpy as np\n",
    "import pandas as pd\n",
    "import datetime\n",
    "import scipy.stats as stats\n",
    "\n",
    "#graphing\n",
    "import matplotlib.pyplot as plt\n",
    "#stats\n",
    "import statsmodels.api as sm\n",
    "from statsmodels.base.model import GenericLikelihoodModel\n",
    "from sklearn.mixture import GaussianMixture \n",
    "#import testing\n",
    "import sys\n",
    "sys.path.append(\"../\")\n",
    "import selection_tests\n",
    "\n",
    "import itertools"
   ]
  },
  {
   "cell_type": "code",
   "execution_count": 2,
   "id": "f9a6344d",
   "metadata": {},
   "outputs": [
    {
     "name": "stdout",
     "output_type": "stream",
     "text": [
      "Index(['index', 'ssa', 'state', 'county', 'year', 'enr_FFS', 'enr_c',\n",
      "       'hhi_ins', 'hhi_ins_noSNP', 'ins_parent', 'ins_parent_noSNPs',\n",
      "       'ins_plans', 'HMO_share', 'PPO_share', 'qual_2012', 'qual_2013',\n",
      "       'qual_2014', 'qual_2015', 'partaenrollment', 'partb_enrollment',\n",
      "       'prescription_drugs', 'prev_comp_dental', 'eye_exams', 'hearing_exams',\n",
      "       'deductible', 'partb_premium', 'plan_premium', 'partd_premium', 'OOPC',\n",
      "       'risk_pub_p', 'bid_pub_p', 'rebate_pub_p', 'risk_pub_c', 'bid_pub_c',\n",
      "       'rebate_pub_c', 'star_C2', 'star_CD2', 'bmFFS', 'bm_ns', 'risk_FFS',\n",
      "       'FFS_AB', 'FFS_AB_rs', 'buydown', 'OOPC_noprem', 'extras', 'quartile',\n",
      "       'bid_pub_p_nominal', 'bid_pub_c_nominal', 'rebate_pub_p_nominal',\n",
      "       'rebate_pub_c_nominal', 'bmFFS_nominal', 'FFS_AB_nominal',\n",
      "       'bm_ns_nominal', 'OOPC_nominal', 'plan_premium_nominal',\n",
      "       'partd_premium_nominal', 'buydown_nominal', 'rebate_std',\n",
      "       'benchmark_diff', 'benchmark_diff_n', 'benchmark_diff_ns', 'quart_yr',\n",
      "       'quart2', 'total_premium', 'rural_urban', 'unemploy_rt', 'pc_income',\n",
      "       'partD', 'enr_c_mean', 'st', 'post', 'post_bmFFS', 'risk_pub_c_std',\n",
      "       'risk_pub_p_std', 'risk_FFS_std', 'log_risk_FFS', 'log_risk_pub_c',\n",
      "       'log_risk_pub_p', 'count', 'double_bonus', 'log_enroll', 'enr_total'],\n",
      "      dtype='object')\n",
      "832.3834838867188\n",
      "806.34423828125\n",
      "7.60477352142334\n"
     ]
    }
   ],
   "source": [
    "data = pd.read_stata(\"all_plans_c_bonus.dta\")\n",
    "data['log_enroll'] = np.log(data['enr_c'])\n",
    "data['enr_total'] = data['enr_c'] + data['enr_FFS']\n",
    "data = data[data['year'] > 2011]\n",
    "print(data.columns)\n",
    "\n",
    "print(data[data['double_bonus']==1]['bmFFS'].mean())\n",
    "print(data['bmFFS'].mean())\n",
    "print(data['star_C2'].mean())"
   ]
  },
  {
   "cell_type": "code",
   "execution_count": 4,
   "id": "88da32fe",
   "metadata": {},
   "outputs": [
    {
     "data": {
      "image/png": "[encoded data removed]",
      "text/plain": [
       "<Figure size 432x288 with 1 Axes>"
      ]
     },
     "metadata": {
      "needs_background": "light"
     },
     "output_type": "display_data"
    }
   ],
   "source": [
    "data_treat = data[data['double_bonus']==1][['enr_c','year','enr_total']]\n",
    "data_treat['y'] = data_treat['enr_c']*data_treat['enr_total']\n",
    "data_treat_group = data_treat.groupby('year',as_index=False).sum()\n",
    "data_treat_group['y'] = data_treat_group['y']/data_treat_group['enr_total']\n",
    "\n",
    "data_control  = data[data['double_bonus']==0][['enr_c','year','enr_total']]\n",
    "data_control['y'] = data_control['enr_c']*data_control['enr_total']\n",
    "data_control_group = data_control.groupby('year',as_index=False).sum()\n",
    "data_control_group['y'] = data_control_group['y']/data_control_group['enr_total']\n",
    "\n",
    "\n",
    "plt.xlabel('year')\n",
    "plt.ylabel('enrollment')\n",
    "plt.plot(data_treat_group['year'],data_treat_group['y'],label='Treatment')\n",
    "plt.plot(data_control_group['year'],data_control_group['y'],label='Control')\n",
    "plt.savefig('pre-trends_double_bonus',dpi=300)\n",
    "\n",
    "\n",
    "plt.legend()\n",
    "plt.show()"
   ]
  },
  {
   "cell_type": "code",
   "execution_count": null,
   "id": "d22a7c94",
   "metadata": {},
   "outputs": [],
   "source": []
  }
 ],
 "metadata": {
  "kernelspec": {
   "display_name": "Python 3 (ipykernel)",
   "language": "python",
   "name": "python3"
  },
  "language_info": {
   "codemirror_mode": {
    "name": "ipython",
    "version": 3
   },
   "file_extension": ".py",
   "mimetype": "text/x-python",
   "name": "python",
   "nbconvert_exporter": "python",
   "pygments_lexer": "ipython3",
   "version": "3.9.7"
  }
 },
 "nbformat": 4,
 "nbformat_minor": 5
}
