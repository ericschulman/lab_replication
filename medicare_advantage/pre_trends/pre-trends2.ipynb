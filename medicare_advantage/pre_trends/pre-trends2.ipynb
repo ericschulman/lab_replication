{
 "cells": [
  {
   "cell_type": "code",
   "execution_count": 1,
   "id": "be5fb161",
   "metadata": {},
   "outputs": [],
   "source": [
    "%load_ext autoreload\n",
    "%autoreload 2\n",
    "\n",
    "import numpy as np\n",
    "import pandas as pd\n",
    "import datetime\n",
    "import scipy.stats as stats\n",
    "\n",
    "#graphing\n",
    "import matplotlib.pyplot as plt\n",
    "#stats\n",
    "import statsmodels.api as sm\n",
    "from statsmodels.base.model import GenericLikelihoodModel\n",
    "from sklearn.mixture import GaussianMixture \n",
    "#import testing\n",
    "import sys\n",
    "sys.path.append(\"../\")\n",
    "import selection_tests\n",
    "\n",
    "import itertools"
   ]
  },
  {
   "cell_type": "code",
   "execution_count": 2,
   "id": "31915def",
   "metadata": {},
   "outputs": [
    {
     "name": "stdout",
     "output_type": "stream",
     "text": [
      "        ssa state      county  treatment\n",
      "0      1000    AL     Autauga          1\n",
      "1      1010    AL     Baldwin          1\n",
      "2      1020    AL     Barbour          0\n",
      "3      1030    AL        Bibb          1\n",
      "4      1040    AL      Blount          1\n",
      "...     ...   ...         ...        ...\n",
      "2966  53180    WY  Sweetwater          0\n",
      "2967  53190    WY       Teton          0\n",
      "2968  53200    WY       Uinta          0\n",
      "2969  53210    WY    Washakie          0\n",
      "2970  53220    WY      Weston          0\n",
      "\n",
      "[2971 rows x 4 columns]\n",
      "(32702, 82)\n",
      "(32702, 83)\n",
      "0.09527410207939509\n",
      "0.0892249527410208\n",
      "0.07532281205164992\n",
      "1\n",
      "1\n"
     ]
    }
   ],
   "source": [
    "data = pd.read_stata(\"all_plans_c_bonus.dta\")\n",
    "data['log_enroll'] = np.log(data['enr_c'])\n",
    "data['enr_total'] = data['enr_c'] + data['enr_FFS']\n",
    "\n",
    "#create a variable that is just db \n",
    "treat = data[['ssa', 'state', 'county', 'double_bonus']].copy()\n",
    "treat = treat.groupby(['ssa', 'state', 'county'],as_index=False).max()\n",
    "treat = treat.rename(columns={'double_bonus':'treatment' })\n",
    "\n",
    "\n",
    "print(treat)\n",
    "print(data.shape)\n",
    "data = data.merge(treat, on=['ssa', 'state', 'county'],how='left')\n",
    "print(data.shape)\n",
    "print(data[data['year'] == 2016]['treatment'].mean())\n",
    "print(data[ data['year'] == 2016 ]['double_bonus'].mean())\n",
    "print(data[ data['year'] == 2012 ]['double_bonus'].mean())\n",
    "print(data[data['year']==2006]['treatment'].max())\n",
    "print(data[data['year']==2012]['treatment'].max())"
   ]
  },
  {
   "cell_type": "code",
   "execution_count": 10,
   "id": "21fb028c",
   "metadata": {
    "scrolled": false
   },
   "outputs": [
    {
     "name": "stdout",
     "output_type": "stream",
     "text": [
      "-483.1849888392858\n"
     ]
    },
    {
     "name": "stderr",
     "output_type": "stream",
     "text": [
      "/tmp/ipykernel_14907/4278849082.py:28: SettingWithCopyWarning: \n",
      "A value is trying to be set on a copy of a slice from a DataFrame.\n",
      "Try using .loc[row_indexer,col_indexer] = value instead\n",
      "\n",
      "See the caveats in the documentation: https://pandas.pydata.org/pandas-docs/stable/user_guide/indexing.html#returning-a-view-versus-a-copy\n",
      "  data_treat_cf['y'] = data_treat_cf['y'] + diff\n",
      "/tmp/ipykernel_14907/4278849082.py:45: SettingWithCopyWarning: \n",
      "A value is trying to be set on a copy of a slice from a DataFrame.\n",
      "Try using .loc[row_indexer,col_indexer] = value instead\n",
      "\n",
      "See the caveats in the documentation: https://pandas.pydata.org/pandas-docs/stable/user_guide/indexing.html#returning-a-view-versus-a-copy\n",
      "  data_treat_cf['y'] = data_treat_cf['y'] + trend_adj\n"
     ]
    },
    {
     "data": {
      "image/png": "[encoded data removed]",
      "text/plain": [
       "<Figure size 432x288 with 1 Axes>"
      ]
     },
     "metadata": {
      "needs_background": "light"
     },
     "output_type": "display_data"
    },
    {
     "data": {
      "text/plain": [
       "(    year      enr_c   enr_total  treatment             y\n",
       " 0   2006  3017622.0  25179618.0          0  20209.921875\n",
       " 1   2007  3315265.0  26031686.0          0  19727.857422\n",
       " 2   2008  4039823.0  26609852.0          0  21813.353516\n",
       " 3   2009  4358486.0  26945392.0          0  22992.107422\n",
       " 4   2010  4598920.0  27459440.0          0  24450.519531\n",
       " 5   2011  4758777.0  27899786.0          0  26217.652344\n",
       " 6   2012  5274290.0  28875432.0          0  29803.156250\n",
       " 7   2013  5738758.0  29670032.0          0  32388.714844\n",
       " 8   2014  6091955.0  29868524.0          0  34557.984375\n",
       " 9   2015  6537662.0  35193808.0          0  35946.679688\n",
       " 10  2016  6941128.0  36045652.0          0  38814.378906,\n",
       "     year      enr_c   enr_total             y\n",
       " 0   2006  1830541.0   7252935.0  17748.046875\n",
       " 1   2007  1951769.0   7374281.0  18231.066406\n",
       " 2   2008  2193914.0   7319448.0  19967.642578\n",
       " 3   2009  2323885.0   7391350.0  20894.748047\n",
       " 4   2010  2447180.0   7533377.0  21762.593750\n",
       " 5   2011  2556895.0   7695250.0  22652.478516\n",
       " 6   2012  2790350.0   8040747.0  24713.785156\n",
       " 7   2013  3029777.0   8363755.0  26544.544922\n",
       " 8   2014  3220707.0   8626497.0  28053.753906\n",
       " 9   2015  3390846.0  10091735.0  29294.121094\n",
       " 10  2016  3584331.0  10430449.0  30983.728516,\n",
       "     year      enr_c   enr_total  treatment             y\n",
       " 6   2012  5274290.0  28875432.0          0  24713.785156\n",
       " 7   2013  5738758.0  29670032.0          0  26816.158761\n",
       " 8   2014  6091955.0  29868524.0          0  28502.243304\n",
       " 9   2015  6537662.0  35193808.0          0  29407.753627\n",
       " 10  2016  6941128.0  36045652.0          0  31792.267857)"
      ]
     },
     "execution_count": 10,
     "metadata": {},
     "output_type": "execute_result"
    }
   ],
   "source": [
    "def create_plot_y(df):\n",
    "    df = df.copy()\n",
    "    df['y'] = df['enr_c']*df['enr_total']\n",
    "    df_group = df.groupby('year',as_index=False).sum()\n",
    "    df_group['y'] = df_group['y']/df_group['enr_total']\n",
    "    return df_group.copy()\n",
    "\n",
    "\n",
    "def create_synth_plot(data,intervention,begin,end,name):    \n",
    "    #treatment\n",
    "    data_treat = data[(data['treatment']==1) & (data['year'] >= begin) &\n",
    "                              (data['year'] <= end) ][['enr_c','year','enr_total']]\n",
    "    data_treat =  create_plot_y(data_treat)\n",
    "    plt.plot(data_treat['year'],data_treat['y'],label='Treatment',color='blue')\n",
    "\n",
    "    \n",
    "    #control\n",
    "    data_control  = data[ (data['treatment']==0) & (data['year'] >= begin) &\n",
    "                              (data['year'] <= end) ][['enr_c','year','enr_total','treatment']]\n",
    "    data_control =  create_plot_y(data_control)\n",
    "    plt.plot(data_control['year'],data_control['y'],label='Control',color='orange')\n",
    "    \n",
    "\n",
    "    #treat cf\n",
    "    data_treat_cf = data_control[ (data_control['year']>=intervention) & (data_control['year']<=end)]\n",
    "    diff = (data_treat['y'][data_treat['year']==intervention].mean() - \n",
    "                data_control['y'][data_control['year']==intervention].mean())\n",
    "    data_treat_cf['y'] = data_treat_cf['y'] + diff\n",
    "    \n",
    "    \n",
    "    #estimate pre-period trends (could do this with linear projection instead)\n",
    "    trend_treat = np.zeros(intervention-begin+1)\n",
    "    trend_control = np.zeros(intervention-begin+1)\n",
    "    \n",
    "    for year in range(begin,intervention+1):\n",
    "        trend_treat[year-begin] = (data_treat['y'][data['year']==year+1].max() - \n",
    "                                data_treat['y'][data['year']==year].max())\n",
    "        \n",
    "        trend_control[year-begin] = (data_control['y'][data['year']==year+1].max() -\n",
    "                                  data_control['y'][data['year']==year].max())\n",
    "    #readjust the cf by the trend...\n",
    "    trend_adj = (trend_treat.mean() - trend_control.mean())*np.arange(0,end-intervention+1)\n",
    "    print((trend_treat.mean() - trend_control.mean()))\n",
    "    trend_adj =pd.Series(trend_adj,index=range(intervention-begin,end-begin+1))\n",
    "    data_treat_cf['y'] = data_treat_cf['y'] + trend_adj\n",
    "    \n",
    "    plt.plot(data_treat_cf['year'],data_treat_cf['y'],label='Treatment CF',color='blue',linestyle='--')\n",
    "\n",
    "    plt.xlabel('year')\n",
    "    plt.ylabel('enrollment')\n",
    "    plt.legend()\n",
    "    plt.savefig(name,dpi=300)\n",
    "    plt.show()\n",
    "    return data_control, data_treat, data_treat_cf\n",
    "    \n",
    "create_synth_plot(data,2012,2006,2016,'double_bonus_intervention.png')"
   ]
  },
  {
   "cell_type": "code",
   "execution_count": 12,
   "id": "11962746",
   "metadata": {},
   "outputs": [
    {
     "name": "stdout",
     "output_type": "stream",
     "text": [
      "nan\n"
     ]
    },
    {
     "name": "stderr",
     "output_type": "stream",
     "text": [
      "/tmp/ipykernel_14907/4278849082.py:28: SettingWithCopyWarning: \n",
      "A value is trying to be set on a copy of a slice from a DataFrame.\n",
      "Try using .loc[row_indexer,col_indexer] = value instead\n",
      "\n",
      "See the caveats in the documentation: https://pandas.pydata.org/pandas-docs/stable/user_guide/indexing.html#returning-a-view-versus-a-copy\n",
      "  data_treat_cf['y'] = data_treat_cf['y'] + diff\n",
      "/tmp/ipykernel_14907/4278849082.py:45: SettingWithCopyWarning: \n",
      "A value is trying to be set on a copy of a slice from a DataFrame.\n",
      "Try using .loc[row_indexer,col_indexer] = value instead\n",
      "\n",
      "See the caveats in the documentation: https://pandas.pydata.org/pandas-docs/stable/user_guide/indexing.html#returning-a-view-versus-a-copy\n",
      "  data_treat_cf['y'] = data_treat_cf['y'] + trend_adj\n"
     ]
    },
    {
     "data": {
      "image/png": "[encoded data removed]",
      "text/plain": [
       "<Figure size 432x288 with 1 Axes>"
      ]
     },
     "metadata": {
      "needs_background": "light"
     },
     "output_type": "display_data"
    },
    {
     "data": {
      "text/plain": [
       "(   year      enr_c   enr_total  treatment             y\n",
       " 0  2006  3017622.0  25179618.0          0  20209.921875\n",
       " 1  2007  3315265.0  26031686.0          0  19727.857422\n",
       " 2  2008  4039823.0  26609852.0          0  21813.353516\n",
       " 3  2009  4358486.0  26945392.0          0  22992.107422\n",
       " 4  2010  4598920.0  27459440.0          0  24450.519531\n",
       " 5  2011  4758777.0  27899786.0          0  26217.652344\n",
       " 6  2012  5274290.0  28875432.0          0  29803.156250,\n",
       "    year      enr_c  enr_total             y\n",
       " 0  2006  1830541.0  7252935.0  17748.046875\n",
       " 1  2007  1951769.0  7374281.0  18231.066406\n",
       " 2  2008  2193914.0  7319448.0  19967.642578\n",
       " 3  2009  2323885.0  7391350.0  20894.748047\n",
       " 4  2010  2447180.0  7533377.0  21762.593750\n",
       " 5  2011  2556895.0  7695250.0  22652.478516\n",
       " 6  2012  2790350.0  8040747.0  24713.785156,\n",
       "    year      enr_c   enr_total  treatment   y\n",
       " 6  2012  5274290.0  28875432.0          0 NaN)"
      ]
     },
     "execution_count": 12,
     "metadata": {},
     "output_type": "execute_result"
    }
   ],
   "source": [
    "create_synth_plot(data,2012,2006,2012,'double_bonus_intervention-zoom.png')"
   ]
  },
  {
   "cell_type": "code",
   "execution_count": 5,
   "id": "16d89f12",
   "metadata": {},
   "outputs": [
    {
     "name": "stdout",
     "output_type": "stream",
     "text": [
      "818.4683227539062\n",
      "829.761474609375\n",
      "-5.740026950836182\n",
      "0         0.000000\n",
      "1         0.000000\n",
      "2         0.000000\n",
      "3         0.000000\n",
      "4         0.000000\n",
      "           ...    \n",
      "32697   -58.529480\n",
      "32698   -37.839966\n",
      "32699     0.000000\n",
      "32700     0.000000\n",
      "32701     0.000000\n",
      "Length: 32702, dtype: float32\n"
     ]
    }
   ],
   "source": [
    "print(data['bm_ns'].mean())\n",
    "print(data['bmFFS'].mean())\n",
    "print(data['benchmark_diff_ns'].mean())\n",
    "print(data['bm_ns']-data['bmFFS'])"
   ]
  },
  {
   "cell_type": "code",
   "execution_count": 6,
   "id": "8e9d567c",
   "metadata": {},
   "outputs": [
    {
     "name": "stdout",
     "output_type": "stream",
     "text": [
      "(32702, 82)\n",
      "(32702, 85)\n",
      "       bm_ns_2011  bm_ns_2012  bmFFS_2012  treatment_1  treatment_2  treatment\n",
      "0      863.221558  810.012573  824.830750     6.164001     1.829376       True\n",
      "1      863.221558  810.012573  824.830750     6.164001     1.829376       True\n",
      "2      863.221558  810.012573  824.830750     6.164001     1.829376       True\n",
      "3      863.221558  810.012573  824.830750     6.164001     1.829376       True\n",
      "4      863.221558  810.012573  824.830750     6.164001     1.829376       True\n",
      "...           ...         ...         ...          ...          ...        ...\n",
      "32697  781.972595  756.370239  778.278259     3.274073     2.896468      False\n",
      "32698  781.972595  756.370239  778.278259     3.274073     2.896468      False\n",
      "32699  781.972595  756.370239  778.278259     3.274073     2.896468      False\n",
      "32700  781.972595  756.370239  778.278259     3.274073     2.896468      False\n",
      "32701  781.972595  756.370239  778.278259     3.274073     2.896468      False\n",
      "\n",
      "[32702 rows x 6 columns]\n"
     ]
    }
   ],
   "source": [
    "cutoff1 = 5\n",
    "cutoff2 = 3\n",
    "\n",
    "#make a new treatment var...\n",
    "data_bm = data.copy()\n",
    "data_bm = data_bm.drop(['treatment'],axis=1)\n",
    "\n",
    "treat = data[['ssa', 'state', 'county', 'bm_ns']].copy()\n",
    "treat_2011 = data[['ssa', 'state', 'county', 'bm_ns']][data['year']==2011]\n",
    "treat_2011 = treat_2011.groupby(['ssa', 'state', 'county'],as_index=False).max()\n",
    "\n",
    "treat_2012 = data[['ssa', 'state', 'county', 'bm_ns']][data['year']==2012]\n",
    "treat_2012 = treat_2012.groupby(['ssa', 'state', 'county'],as_index=False).max()\n",
    "\n",
    "\n",
    "treat_2012_2 = data[['ssa', 'state', 'county', 'bmFFS']][data['year']==2012]\n",
    "treat_2012_2 = treat_2012_2.groupby(['ssa', 'state', 'county'],as_index=False).max()\n",
    "\n",
    "treat = treat_2011.merge(treat_2012,on=['ssa', 'state', 'county'],suffixes=('_2011', '_2012'))\n",
    "treat = treat.merge(treat_2012_2,on=['ssa', 'state', 'county'])\n",
    "\n",
    "\n",
    "\n",
    "\n",
    "print(data_bm.shape)\n",
    "data_bm = data_bm.merge(treat, on=['ssa', 'state', 'county'],how='left',suffixes=('','_2012'))\n",
    "print(data_bm.shape)\n",
    "\n",
    "data_bm['treatment_1'] = 100*(data_bm['bm_ns_2011'] - data_bm['bm_ns_2012'])/data_bm['bm_ns_2011'] \n",
    "data_bm['treatment_2'] = 100*(data_bm['bmFFS_2012'] - data_bm['bm_ns_2012'])/data_bm['bm_ns_2012'] \n",
    "data_bm['treatment'] =  (data_bm['treatment_1'] > cutoff1 )*(data_bm['treatment_2'] < cutoff2)\n",
    "#data_bm['treatment_1']  + 2 >= data_bm['treatment_2'] \n",
    "print(data_bm[['bm_ns_2011','bm_ns_2012','bmFFS_2012','treatment_1','treatment_2','treatment']])\n",
    "\n",
    "#bm 5_star with some percent of bm cut"
   ]
  },
  {
   "cell_type": "code",
   "execution_count": 7,
   "id": "5bd866e5",
   "metadata": {},
   "outputs": [
    {
     "name": "stderr",
     "output_type": "stream",
     "text": [
      "/tmp/ipykernel_14907/584154762.py:28: SettingWithCopyWarning: \n",
      "A value is trying to be set on a copy of a slice from a DataFrame.\n",
      "Try using .loc[row_indexer,col_indexer] = value instead\n",
      "\n",
      "See the caveats in the documentation: https://pandas.pydata.org/pandas-docs/stable/user_guide/indexing.html#returning-a-view-versus-a-copy\n",
      "  data_treat_cf['y'] = data_treat_cf['y'] + diff\n",
      "/tmp/ipykernel_14907/584154762.py:44: SettingWithCopyWarning: \n",
      "A value is trying to be set on a copy of a slice from a DataFrame.\n",
      "Try using .loc[row_indexer,col_indexer] = value instead\n",
      "\n",
      "See the caveats in the documentation: https://pandas.pydata.org/pandas-docs/stable/user_guide/indexing.html#returning-a-view-versus-a-copy\n",
      "  data_treat_cf['y'] = data_treat_cf['y'] + trend_adj\n"
     ]
    },
    {
     "data": {
      "image/png": "[encoded data removed]",
      "text/plain": [
       "<Figure size 432x288 with 1 Axes>"
      ]
     },
     "metadata": {
      "needs_background": "light"
     },
     "output_type": "display_data"
    },
    {
     "name": "stdout",
     "output_type": "stream",
     "text": [
      "0      4893.696777\n",
      "1      5117.924316\n",
      "2      7162.795898\n",
      "3      7882.931641\n",
      "4      8953.720703\n",
      "5      9841.081055\n",
      "6     10897.531250\n",
      "7     12078.378906\n",
      "8     13162.188477\n",
      "9     13896.738281\n",
      "10    14815.288086\n",
      "Name: y, dtype: float32\n"
     ]
    }
   ],
   "source": [
    "data_control, data_treat, data_treat_cf = create_synth_plot(data_bm,2012,2006,2016,'bm_cuts_intervention.png')\n",
    "\n",
    "print(data_treat['y'])"
   ]
  },
  {
   "cell_type": "code",
   "execution_count": null,
   "id": "9dabce46",
   "metadata": {},
   "outputs": [],
   "source": []
  }
 ],
 "metadata": {
  "kernelspec": {
   "display_name": "Python 3 (ipykernel)",
   "language": "python",
   "name": "python3"
  },
  "language_info": {
   "codemirror_mode": {
    "name": "ipython",
    "version": 3
   },
   "file_extension": ".py",
   "mimetype": "text/x-python",
   "name": "python",
   "nbconvert_exporter": "python",
   "pygments_lexer": "ipython3",
   "version": "3.9.7"
  }
 },
 "nbformat": 4,
 "nbformat_minor": 5
}
