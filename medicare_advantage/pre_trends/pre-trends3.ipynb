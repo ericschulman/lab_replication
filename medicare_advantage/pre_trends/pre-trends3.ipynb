{
 "cells": [
  {
   "cell_type": "code",
   "execution_count": 1,
   "id": "be5fb161",
   "metadata": {},
   "outputs": [],
   "source": [
    "%load_ext autoreload\n",
    "%autoreload 2\n",
    "\n",
    "import numpy as np\n",
    "import pandas as pd\n",
    "import datetime\n",
    "import scipy.stats as stats\n",
    "\n",
    "#graphing\n",
    "import matplotlib.pyplot as plt\n",
    "#stats\n",
    "import statsmodels.api as sm\n",
    "from statsmodels.base.model import GenericLikelihoodModel\n",
    "from sklearn.mixture import GaussianMixture \n",
    "#import testing\n",
    "import sys\n",
    "sys.path.append(\"../../\")\n",
    "import selection_tests\n",
    "\n",
    "import itertools"
   ]
  },
  {
   "cell_type": "code",
   "execution_count": 2,
   "id": "31915def",
   "metadata": {},
   "outputs": [
    {
     "name": "stdout",
     "output_type": "stream",
     "text": [
      "        ssa state      county  treatment\n",
      "0      1000    AL     Autauga          1\n",
      "1      1010    AL     Baldwin          1\n",
      "2      1020    AL     Barbour          0\n",
      "3      1030    AL        Bibb          1\n",
      "4      1040    AL      Blount          1\n",
      "...     ...   ...         ...        ...\n",
      "2966  53180    WY  Sweetwater          0\n",
      "2967  53190    WY       Teton          0\n",
      "2968  53200    WY       Uinta          0\n",
      "2969  53210    WY    Washakie          0\n",
      "2970  53220    WY      Weston          0\n",
      "\n",
      "[2971 rows x 4 columns]\n",
      "(32702, 83)\n"
     ]
    }
   ],
   "source": [
    "data = pd.read_stata(\"../all_plans_c_bonus.dta\")\n",
    "data['log_enroll'] = np.log(data['enr_c'])\n",
    "data['enr_total'] = data['enr_c'] + data['enr_FFS']\n",
    "data['penetration'] = data['enr_c']/data['enr_total']\n",
    "\n",
    "#create a variable that is just db \n",
    "treat = data[['ssa', 'state', 'county', 'double_bonus']].copy()\n",
    "treat = treat.groupby(['ssa', 'state', 'county'],as_index=False).max()\n",
    "treat = treat.rename(columns={'double_bonus':'treatment' })\n",
    "\n",
    "\n",
    "print(treat)\n",
    "print(data.shape)\n",
    "data = data.merge(treat, on=['ssa', 'state', 'county'],how='left')"
   ]
  },
  {
   "cell_type": "code",
   "execution_count": 3,
   "id": "21fb028c",
   "metadata": {
    "scrolled": false
   },
   "outputs": [
    {
     "name": "stderr",
     "output_type": "stream",
     "text": [
      "/tmp/ipykernel_32614/4048899732.py:28: SettingWithCopyWarning: \n",
      "A value is trying to be set on a copy of a slice from a DataFrame.\n",
      "Try using .loc[row_indexer,col_indexer] = value instead\n",
      "\n",
      "See the caveats in the documentation: https://pandas.pydata.org/pandas-docs/stable/user_guide/indexing.html#returning-a-view-versus-a-copy\n",
      "  data_treat_cf['y'] = data_treat_cf['y'] + diff\n"
     ]
    },
    {
     "data": {
      "image/png": "[encoded data removed]",
      "text/plain": [
       "<Figure size 432x288 with 1 Axes>"
      ]
     },
     "metadata": {
      "needs_background": "light"
     },
     "output_type": "display_data"
    },
    {
     "data": {
      "text/plain": [
       "(    year  penetration   enr_total  treatment         y\n",
       " 0   2006   150.399277  25179618.0          0  0.119844\n",
       " 1   2007   188.256378  26031686.0          0  0.127355\n",
       " 2   2008   261.584442  26609852.0          0  0.151817\n",
       " 3   2009   280.544312  26945392.0          0  0.161753\n",
       " 4   2010   292.551819  27459440.0          0  0.167480\n",
       " 5   2011   284.723389  27899786.0          0  0.170567\n",
       " 6   2012   303.461426  28875432.0          0  0.182657\n",
       " 7   2013   322.626984  29670032.0          0  0.193419\n",
       " 8   2014   328.212982  29868524.0          0  0.203959\n",
       " 9   2015   289.700684  35193808.0          0  0.185762\n",
       " 10  2016   300.299469  36045652.0          0  0.192565,\n",
       "     year  penetration   enr_total         y\n",
       " 0   2006    57.963585   7252935.0  0.252386\n",
       " 1   2007    62.729111   7374281.0  0.264672\n",
       " 2   2008    73.939537   7319448.0  0.299738\n",
       " 3   2009    78.672867   7391350.0  0.314406\n",
       " 4   2010    81.944366   7533377.0  0.324845\n",
       " 5   2011    83.640968   7695250.0  0.332269\n",
       " 6   2012    87.334106   8040747.0  0.347026\n",
       " 7   2013    91.729034   8363755.0  0.362251\n",
       " 8   2014    94.930244   8626497.0  0.373351\n",
       " 9   2015    84.612915  10091735.0  0.336002\n",
       " 10  2016    86.279907  10430449.0  0.343641,\n",
       "     year  penetration   enr_total  treatment         y\n",
       " 6   2012   303.461426  28875432.0          0  0.347026\n",
       " 7   2013   322.626984  29670032.0          0  0.357789\n",
       " 8   2014   328.212982  29868524.0          0  0.368329\n",
       " 9   2015   289.700684  35193808.0          0  0.350131\n",
       " 10  2016   300.299469  36045652.0          0  0.356934)"
      ]
     },
     "execution_count": 3,
     "metadata": {},
     "output_type": "execute_result"
    }
   ],
   "source": [
    "def create_plot_y(df):\n",
    "    df = df.copy()\n",
    "    df['y'] = df['penetration']*df['enr_total']\n",
    "    df_group = df.groupby('year',as_index=False).sum()\n",
    "    df_group['y'] = df_group['y']/df_group['enr_total']\n",
    "    return df_group.copy()\n",
    "\n",
    "\n",
    "def create_synth_plot(data,intervention,begin,end,name):    \n",
    "    #treatment\n",
    "    data_treat = data[(data['treatment']==1) & (data['year'] >= begin) &\n",
    "                              (data['year'] <= end) ][['penetration','year','enr_total']]\n",
    "    data_treat =  create_plot_y(data_treat)\n",
    "    plt.plot(data_treat['year'],data_treat['y'],label='Treatment',color='blue')\n",
    "\n",
    "    \n",
    "    #control\n",
    "    data_control  = data[ (data['treatment']==0) & (data['year'] >= begin) &\n",
    "                              (data['year'] <= end) ][['penetration','year','enr_total','treatment']]\n",
    "    data_control =  create_plot_y(data_control)\n",
    "    plt.plot(data_control['year'],data_control['y'],label='Control',color='orange')\n",
    "    \n",
    "\n",
    "    #treat cf\n",
    "    data_treat_cf = data_control[ (data_control['year']>=intervention) & (data_control['year']<=end)]\n",
    "    diff = (data_treat['y'][data_treat['year']==intervention].mean() - \n",
    "                data_control['y'][data_control['year']==intervention].mean())\n",
    "    data_treat_cf['y'] = data_treat_cf['y'] + diff\n",
    "    \n",
    "        \n",
    "    plt.plot(data_treat_cf['year'],data_treat_cf['y'],label='Treatment CF',color='blue',linestyle='--')\n",
    "\n",
    "    plt.xlabel('year')\n",
    "    plt.ylabel('enrollment')\n",
    "    plt.legend()\n",
    "    plt.savefig(name,dpi=300)\n",
    "    plt.show()\n",
    "    return data_control, data_treat, data_treat_cf\n",
    "    \n",
    "create_synth_plot(data,2012,2006,2016,'double_bonus_intervention.png')"
   ]
  },
  {
   "cell_type": "code",
   "execution_count": 4,
   "id": "11962746",
   "metadata": {},
   "outputs": [
    {
     "name": "stderr",
     "output_type": "stream",
     "text": [
      "/tmp/ipykernel_32614/4048899732.py:28: SettingWithCopyWarning: \n",
      "A value is trying to be set on a copy of a slice from a DataFrame.\n",
      "Try using .loc[row_indexer,col_indexer] = value instead\n",
      "\n",
      "See the caveats in the documentation: https://pandas.pydata.org/pandas-docs/stable/user_guide/indexing.html#returning-a-view-versus-a-copy\n",
      "  data_treat_cf['y'] = data_treat_cf['y'] + diff\n"
     ]
    },
    {
     "data": {
      "image/png": "[encoded data removed]",
      "text/plain": [
       "<Figure size 432x288 with 1 Axes>"
      ]
     },
     "metadata": {
      "needs_background": "light"
     },
     "output_type": "display_data"
    },
    {
     "data": {
      "text/plain": [
       "(   year  penetration   enr_total  treatment         y\n",
       " 0  2006   150.399277  25179618.0          0  0.119844\n",
       " 1  2007   188.256378  26031686.0          0  0.127355\n",
       " 2  2008   261.584442  26609852.0          0  0.151817\n",
       " 3  2009   280.544312  26945392.0          0  0.161753\n",
       " 4  2010   292.551819  27459440.0          0  0.167480\n",
       " 5  2011   284.723389  27899786.0          0  0.170567\n",
       " 6  2012   303.461426  28875432.0          0  0.182657,\n",
       "    year  penetration  enr_total         y\n",
       " 0  2006    57.963585  7252935.0  0.252386\n",
       " 1  2007    62.729111  7374281.0  0.264672\n",
       " 2  2008    73.939537  7319448.0  0.299738\n",
       " 3  2009    78.672867  7391350.0  0.314406\n",
       " 4  2010    81.944366  7533377.0  0.324845\n",
       " 5  2011    83.640968  7695250.0  0.332269\n",
       " 6  2012    87.334106  8040747.0  0.347026,\n",
       "    year  penetration   enr_total  treatment         y\n",
       " 6  2012   303.461426  28875432.0          0  0.347026)"
      ]
     },
     "execution_count": 4,
     "metadata": {},
     "output_type": "execute_result"
    }
   ],
   "source": [
    "create_synth_plot(data,2012,2006,2012,'double_bonus_intervention-zoom.png')"
   ]
  },
  {
   "cell_type": "code",
   "execution_count": 5,
   "id": "16d89f12",
   "metadata": {},
   "outputs": [
    {
     "name": "stdout",
     "output_type": "stream",
     "text": [
      "818.4683227539062\n",
      "829.761474609375\n",
      "-5.740026950836182\n",
      "0         0.000000\n",
      "1         0.000000\n",
      "2         0.000000\n",
      "3         0.000000\n",
      "4         0.000000\n",
      "           ...    \n",
      "32697   -58.529480\n",
      "32698   -37.839966\n",
      "32699     0.000000\n",
      "32700     0.000000\n",
      "32701     0.000000\n",
      "Length: 32702, dtype: float32\n"
     ]
    }
   ],
   "source": [
    "print(data['bm_ns'].mean())\n",
    "print(data['bmFFS'].mean())\n",
    "print(data['benchmark_diff_ns'].mean())\n",
    "print(data['bm_ns']-data['bmFFS'])"
   ]
  },
  {
   "cell_type": "code",
   "execution_count": 6,
   "id": "8e9d567c",
   "metadata": {},
   "outputs": [
    {
     "name": "stdout",
     "output_type": "stream",
     "text": [
      "(32702, 83)\n",
      "(32702, 86)\n",
      "       bm_ns_2011  bm_ns_2012  bmFFS_2012  treatment_1  treatment_2  treatment\n",
      "0      863.221558  810.012573  824.830750     6.164001     1.829376      False\n",
      "1      863.221558  810.012573  824.830750     6.164001     1.829376      False\n",
      "2      863.221558  810.012573  824.830750     6.164001     1.829376      False\n",
      "3      863.221558  810.012573  824.830750     6.164001     1.829376      False\n",
      "4      863.221558  810.012573  824.830750     6.164001     1.829376      False\n",
      "...           ...         ...         ...          ...          ...        ...\n",
      "32697  781.972595  756.370239  778.278259     3.274073     2.896468      False\n",
      "32698  781.972595  756.370239  778.278259     3.274073     2.896468      False\n",
      "32699  781.972595  756.370239  778.278259     3.274073     2.896468      False\n",
      "32700  781.972595  756.370239  778.278259     3.274073     2.896468      False\n",
      "32701  781.972595  756.370239  778.278259     3.274073     2.896468      False\n",
      "\n",
      "[32702 rows x 6 columns]\n"
     ]
    }
   ],
   "source": [
    "cutoff1 = 10\n",
    "cutoff2 = 3\n",
    "\n",
    "#make a new treatment var...\n",
    "data_bm = data.copy()\n",
    "data_bm = data_bm.drop(['treatment'],axis=1)\n",
    "\n",
    "treat = data[['ssa', 'state', 'county', 'bm_ns']].copy()\n",
    "treat_2011 = data[['ssa', 'state', 'county', 'bm_ns']][data['year']==2011]\n",
    "treat_2011 = treat_2011.groupby(['ssa', 'state', 'county'],as_index=False).max()\n",
    "\n",
    "treat_2012 = data[['ssa', 'state', 'county', 'bm_ns']][data['year']==2012]\n",
    "treat_2012 = treat_2012.groupby(['ssa', 'state', 'county'],as_index=False).max()\n",
    "\n",
    "\n",
    "treat_2012_2 = data[['ssa', 'state', 'county', 'bmFFS']][data['year']==2012]\n",
    "treat_2012_2 = treat_2012_2.groupby(['ssa', 'state', 'county'],as_index=False).max()\n",
    "\n",
    "treat = treat_2011.merge(treat_2012,on=['ssa', 'state', 'county'],suffixes=('_2011', '_2012'))\n",
    "treat = treat.merge(treat_2012_2,on=['ssa', 'state', 'county'])\n",
    "\n",
    "\n",
    "\n",
    "\n",
    "print(data_bm.shape)\n",
    "data_bm = data_bm.merge(treat, on=['ssa', 'state', 'county'],how='left',suffixes=('','_2012'))\n",
    "print(data_bm.shape)\n",
    "\n",
    "data_bm['treatment_1'] = 100*(data_bm['bm_ns_2011'] - data_bm['bm_ns_2012'])/data_bm['bm_ns_2011'] \n",
    "data_bm['treatment_2'] = 100*(data_bm['bmFFS_2012'] - data_bm['bm_ns_2012'])/data_bm['bm_ns_2012'] \n",
    "data_bm['treatment'] =  (data_bm['treatment_1'] > cutoff1 )*(data_bm['treatment_2'] < cutoff2)\n",
    "#data_bm['treatment_1']  + 2 >= data_bm['treatment_2'] \n",
    "print(data_bm[['bm_ns_2011','bm_ns_2012','bmFFS_2012','treatment_1','treatment_2','treatment']])\n",
    "\n",
    "#bm 5_star with some percent of bm cut"
   ]
  },
  {
   "cell_type": "code",
   "execution_count": 7,
   "id": "5bd866e5",
   "metadata": {},
   "outputs": [
    {
     "name": "stderr",
     "output_type": "stream",
     "text": [
      "/tmp/ipykernel_32614/4048899732.py:28: SettingWithCopyWarning: \n",
      "A value is trying to be set on a copy of a slice from a DataFrame.\n",
      "Try using .loc[row_indexer,col_indexer] = value instead\n",
      "\n",
      "See the caveats in the documentation: https://pandas.pydata.org/pandas-docs/stable/user_guide/indexing.html#returning-a-view-versus-a-copy\n",
      "  data_treat_cf['y'] = data_treat_cf['y'] + diff\n"
     ]
    },
    {
     "data": {
      "image/png": "[encoded data removed]",
      "text/plain": [
       "<Figure size 432x288 with 1 Axes>"
      ]
     },
     "metadata": {
      "needs_background": "light"
     },
     "output_type": "display_data"
    },
    {
     "name": "stdout",
     "output_type": "stream",
     "text": [
      "0     0.035736\n",
      "1     0.049891\n",
      "2     0.069501\n",
      "3     0.078011\n",
      "4     0.090292\n",
      "5     0.089234\n",
      "6     0.082853\n",
      "7     0.082969\n",
      "8     0.045023\n",
      "9     0.054353\n",
      "10    0.068192\n",
      "Name: y, dtype: float32\n"
     ]
    }
   ],
   "source": [
    "data_control, data_treat, data_treat_cf = create_synth_plot(data_bm,2012,2006,2016,'bm_cuts_intervention.png')\n",
    "\n",
    "print(data_treat['y'])"
   ]
  },
  {
   "cell_type": "code",
   "execution_count": null,
   "id": "9dabce46",
   "metadata": {},
   "outputs": [],
   "source": []
  }
 ],
 "metadata": {
  "kernelspec": {
   "display_name": "Python 3 (ipykernel)",
   "language": "python",
   "name": "python3"
  },
  "language_info": {
   "codemirror_mode": {
    "name": "ipython",
    "version": 3
   },
   "file_extension": ".py",
   "mimetype": "text/x-python",
   "name": "python",
   "nbconvert_exporter": "python",
   "pygments_lexer": "ipython3",
   "version": "3.9.7"
  }
 },
 "nbformat": 4,
 "nbformat_minor": 5
}
