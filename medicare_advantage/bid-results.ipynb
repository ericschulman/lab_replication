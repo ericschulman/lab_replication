{
 "cells": [
  {
   "cell_type": "code",
   "execution_count": 1,
   "id": "88999733",
   "metadata": {},
   "outputs": [],
   "source": [
    "%load_ext autoreload\n",
    "%autoreload 2\n",
    "\n",
    "import numpy as np\n",
    "import pandas as pd\n",
    "import datetime\n",
    "import scipy.stats as stats\n",
    "\n",
    "#graphing\n",
    "import matplotlib.pyplot as plt\n",
    "#stats\n",
    "import statsmodels.api as sm\n",
    "from statsmodels.base.model import GenericLikelihoodModel\n",
    "from sklearn.mixture import GaussianMixture \n",
    "#import testing\n",
    "import sys\n",
    "sys.path.append(\"../\")\n",
    "import selection_tests"
   ]
  },
  {
   "cell_type": "code",
   "execution_count": 2,
   "id": "dafc4a74",
   "metadata": {},
   "outputs": [],
   "source": [
    "data = pd.read_stata(\"all_plans_c.dta\")\n",
    "data['log_enroll'] = np.log(data['enr_c'])\n",
    "data['enr_total'] = data['enr_c'] + data['enr_FFS']\n",
    "data = data[data['year'] > 2006]"
   ]
  },
  {
   "cell_type": "code",
   "execution_count": 3,
   "id": "c4d2936b",
   "metadata": {},
   "outputs": [],
   "source": [
    "#https://www.statsmodels.org/dev/examples/notebooks/generated/glm_weights.html\n",
    "\n",
    "def drop_data(data,y_name,x_name,absorb=None):\n",
    "    data = data.copy()\n",
    "    data = data[y_name + x_name + absorb]\n",
    "    missing_vals = ~data.isnull().max(axis=1)\n",
    "    data = data[missing_vals]\n",
    "    data = data[data['year'].groupby(data['ssa']).transform('count')>=11]\n",
    "    return data\n",
    "    \n",
    "\n",
    "def demean(y_name,x_name,data=None,absorb=None,cluster=None): \n",
    "\n",
    "    y,X = data[ y_name], data[ x_name ]\n",
    "    \n",
    "    y_dot = y.copy()\n",
    "    X_dot = X.copy()\n",
    "    \n",
    "    ybar = y.mean()\n",
    "    Xbar = X.mean()\n",
    "\n",
    "    \n",
    "    for effect in absorb:\n",
    "        y_dot = y_dot - y.groupby(data[effect]).transform('mean')\n",
    "        X_dot = X_dot - X.groupby(data[effect]).transform('mean') \n",
    "    \n",
    "    y_dot = y_dot + ybar\n",
    "    X_dot = X_dot + Xbar\n",
    "    return y_dot, X_dot\n"
   ]
  },
  {
   "cell_type": "code",
   "execution_count": 4,
   "id": "f665526c",
   "metadata": {},
   "outputs": [
    {
     "name": "stdout",
     "output_type": "stream",
     "text": [
      "25542\n",
      "                 Generalized Linear Model Regression Results                  \n",
      "==============================================================================\n",
      "Dep. Variable:              bid_pub_c   No. Observations:                25542\n",
      "Model:                            GLM   Df Residuals:            3805124493304\n",
      "Model Family:                Gaussian   Df Model:                            7\n",
      "Link Function:               identity   Scale:                          354.12\n",
      "Method:                          IRLS   Log-Likelihood:            -1.6567e+13\n",
      "Date:                Thu, 15 Dec 2022   Deviance:                   1.3475e+15\n",
      "Time:                        18:29:20   Pearson chi2:                 1.35e+15\n",
      "No. Iterations:                     3                                         \n",
      "Covariance Type:            nonrobust                                         \n",
      "=====================================================================================\n",
      "                        coef    std err          z      P>|z|      [0.025      0.975]\n",
      "-------------------------------------------------------------------------------------\n",
      "bmFFS                 0.6653   2.62e-07   2.54e+06      0.000       0.665       0.665\n",
      "post_bmFFS           -0.0508    1.6e-07  -3.18e+05      0.000      -0.051      -0.051\n",
      "log_risk_pub_c       -0.1852   3.62e-06  -5.12e+04      0.000      -0.185      -0.185\n",
      "FFS_AB               -0.0203   1.51e-07  -1.35e+05      0.000      -0.020      -0.020\n",
      "ins_parent_noSNPs    -6.3094   8.14e-06  -7.76e+05      0.000      -6.309      -6.309\n",
      "log_risk_FFS          0.2245   6.79e-06   3.31e+04      0.000       0.224       0.225\n",
      "unemploy_rt          -2.2398   1.33e-05  -1.68e+05      0.000      -2.240      -2.240\n",
      "pc_income            -0.9335   4.38e-06  -2.13e+05      0.000      -0.933      -0.933\n",
      "=====================================================================================\n"
     ]
    }
   ],
   "source": [
    "y_name = ['bid_pub_c']\n",
    "x_name = ['bmFFS','post_bmFFS', 'log_risk_pub_c','FFS_AB',\"ins_parent_noSNPs\",'log_risk_FFS','unemploy_rt','pc_income']\n",
    "weight_names = ['enr_c_mean']\n",
    "data1 = drop_data(data,y_name,x_name+weight_names,absorb=['ssa','year'])\n",
    "y_dot, X_dot = demean(y_name,x_name, data=data1,absorb=['ssa','year'])\n",
    "#missing_vals = ~data[y_name + x_name].isnull().max(axis=1)\n",
    "#y_dot, X_dot = y_dot[missing_vals],X_dot[missing_vals]\n",
    "\n",
    "#https://stats.stackexchange.com/questions/354689/are-frequency-weights-and-sampling-weights-in-practice-the-same-thing\n",
    "weights = np.array(data1[weight_names]).reshape(y_dot.shape[0])\n",
    "print(weights.shape[0])\n",
    "#weights = (weights*weights.shape[0])/(weights**2).sum()\n",
    "m1 = sm.GLM(y_dot,X_dot,freq_weights=weights**2)\n",
    "m1_fit = m1.fit()\n",
    "print(m1_fit.summary())"
   ]
  },
  {
   "cell_type": "code",
   "execution_count": 5,
   "id": "61d16e9f",
   "metadata": {},
   "outputs": [],
   "source": [
    "#print_results(['bid_pub_c'],data[data['year'] >=2011],weights=True)"
   ]
  },
  {
   "cell_type": "markdown",
   "id": "b9d88f6f",
   "metadata": {},
   "source": [
    "# enrollment data"
   ]
  },
  {
   "cell_type": "code",
   "execution_count": null,
   "id": "55e73998",
   "metadata": {},
   "outputs": [],
   "source": []
  },
  {
   "cell_type": "code",
   "execution_count": 6,
   "id": "89e01c33",
   "metadata": {},
   "outputs": [],
   "source": [
    "#print_results(['log_enroll'],data)"
   ]
  },
  {
   "cell_type": "code",
   "execution_count": null,
   "id": "a45e271c",
   "metadata": {},
   "outputs": [],
   "source": []
  }
 ],
 "metadata": {
  "kernelspec": {
   "display_name": "Python 3 (ipykernel)",
   "language": "python",
   "name": "python3"
  },
  "language_info": {
   "codemirror_mode": {
    "name": "ipython",
    "version": 3
   },
   "file_extension": ".py",
   "mimetype": "text/x-python",
   "name": "python",
   "nbconvert_exporter": "python",
   "pygments_lexer": "ipython3",
   "version": "3.9.7"
  }
 },
 "nbformat": 4,
 "nbformat_minor": 5
}
