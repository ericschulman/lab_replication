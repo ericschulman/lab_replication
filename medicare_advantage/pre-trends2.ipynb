{
 "cells": [
  {
   "cell_type": "code",
   "execution_count": 1,
   "id": "be5fb161",
   "metadata": {},
   "outputs": [],
   "source": [
    "%load_ext autoreload\n",
    "%autoreload 2\n",
    "\n",
    "import numpy as np\n",
    "import pandas as pd\n",
    "import datetime\n",
    "import scipy.stats as stats\n",
    "\n",
    "#graphing\n",
    "import matplotlib.pyplot as plt\n",
    "#stats\n",
    "import statsmodels.api as sm\n",
    "from statsmodels.base.model import GenericLikelihoodModel\n",
    "from sklearn.mixture import GaussianMixture \n",
    "#import testing\n",
    "import sys\n",
    "sys.path.append(\"../\")\n",
    "import selection_tests\n",
    "\n",
    "import itertools"
   ]
  },
  {
   "cell_type": "code",
   "execution_count": 2,
   "id": "31915def",
   "metadata": {},
   "outputs": [
    {
     "name": "stdout",
     "output_type": "stream",
     "text": [
      "        ssa state      county  treatment\n",
      "0      1000    AL     Autauga          1\n",
      "1      1010    AL     Baldwin          1\n",
      "2      1020    AL     Barbour          0\n",
      "3      1030    AL        Bibb          1\n",
      "4      1040    AL      Blount          1\n",
      "...     ...   ...         ...        ...\n",
      "2966  53180    WY  Sweetwater          0\n",
      "2967  53190    WY       Teton          0\n",
      "2968  53200    WY       Uinta          0\n",
      "2969  53210    WY    Washakie          0\n",
      "2970  53220    WY      Weston          0\n",
      "\n",
      "[2971 rows x 4 columns]\n",
      "(32702, 82)\n",
      "(32702, 83)\n",
      "0.09527410207939509\n",
      "0.0892249527410208\n",
      "0.07532281205164992\n",
      "1\n",
      "1\n"
     ]
    }
   ],
   "source": [
    "data = pd.read_stata(\"all_plans_c_bonus.dta\")\n",
    "data['log_enroll'] = np.log(data['enr_c'])\n",
    "data['enr_total'] = data['enr_c'] + data['enr_FFS']\n",
    "\n",
    "#create a variable that is just db \n",
    "treat = data[['ssa', 'state', 'county', 'double_bonus']].copy()\n",
    "treat = treat.groupby(['ssa', 'state', 'county'],as_index=False).max()\n",
    "treat = treat.rename(columns={'double_bonus':'treatment' })\n",
    "print(treat)\n",
    "print(data.shape)\n",
    "data = data.merge(treat, on=['ssa', 'state', 'county'],how='left')\n",
    "print(data.shape)\n",
    "print(data[data['year'] == 2016]['treatment'].mean())\n",
    "print(data[ data['year'] == 2016 ]['double_bonus'].mean())\n",
    "print(data[ data['year'] == 2012 ]['double_bonus'].mean())\n",
    "print(data[data['year']==2006]['treatment'].max())\n",
    "print(data[data['year']==2012]['treatment'].max())"
   ]
  },
  {
   "cell_type": "code",
   "execution_count": 9,
   "id": "21fb028c",
   "metadata": {
    "scrolled": false
   },
   "outputs": [
    {
     "data": {
      "image/png": "[encoded data removed]",
      "text/plain": [
       "<Figure size 432x288 with 1 Axes>"
      ]
     },
     "metadata": {
      "needs_background": "light"
     },
     "output_type": "display_data"
    }
   ],
   "source": [
    "def create_plot_y(df):\n",
    "    df = df.copy()\n",
    "    df['y'] = df['enr_c']*df['enr_total']\n",
    "    df_group = df.groupby('year',as_index=False).sum()\n",
    "    df_group['y'] = df_group['y']/df_group['enr_total']\n",
    "    return df_group.copy()\n",
    "\n",
    "\n",
    "\n",
    "data_treat_pre = data[(data['treatment']==1) & (data['year'] <= 2012) &\n",
    "                          (data['year'] >= 2006) ][['enr_c','year','enr_total']]\n",
    "data_treat_pre =  create_plot_y(data_treat_pre)\n",
    "plt.plot(data_treat_pre['year'],data_treat_pre['y'],label='Treatment',color='blue')\n",
    "\n",
    "\n",
    "data_treat_post = data[(data['treatment']==1) & (data['year'] >= 2012) &\n",
    "                          (data['year'] <= 2016) ][['enr_c','year','enr_total']]\n",
    "data_treat_post =  create_plot_y(data_treat_post)\n",
    "plt.plot(data_treat_post['year'],data_treat_post['y'],label='Treatment Post',color='blue',linestyle='--')\n",
    "\n",
    "\n",
    "\n",
    "data_control  = data[data['treatment']==0 & (data['year'] <= 2016) &\n",
    "                          (data['year'] >= 2006) ][['enr_c','year','enr_total']]\n",
    "data_control =  create_plot_y(data_control)\n",
    "plt.plot(data_control['year'],data_control['y'],label='Control',color='orange')\n",
    "\n",
    "\n",
    "\n",
    "data_treat_cf = data_control[ (data_control['year']>=2012) & (data_control['year']<=2016)] - data\n",
    "plt.plot(data_treat_cf['year'],data_treat_cf['y'],label='Treatment Post',color='blue',linestyle='--')\n",
    "\n",
    "plt.xlabel('year')\n",
    "plt.ylabel('enrollment')\n",
    "plt.legend()\n",
    "plt.savefig('pre-trends_double_bonus',dpi=300)\n",
    "\n",
    "\n",
    "plt.show()"
   ]
  },
  {
   "cell_type": "code",
   "execution_count": null,
   "id": "8e9d567c",
   "metadata": {},
   "outputs": [],
   "source": []
  }
 ],
 "metadata": {
  "kernelspec": {
   "display_name": "Python 3 (ipykernel)",
   "language": "python",
   "name": "python3"
  },
  "language_info": {
   "codemirror_mode": {
    "name": "ipython",
    "version": 3
   },
   "file_extension": ".py",
   "mimetype": "text/x-python",
   "name": "python",
   "nbconvert_exporter": "python",
   "pygments_lexer": "ipython3",
   "version": "3.9.7"
  }
 },
 "nbformat": 4,
 "nbformat_minor": 5
}
