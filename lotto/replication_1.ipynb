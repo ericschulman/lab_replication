{
 "cells": [
  {
   "cell_type": "code",
   "execution_count": 6,
   "id": "7d8bb8dd",
   "metadata": {},
   "outputs": [
    {
     "name": "stdout",
     "output_type": "stream",
     "text": [
      "The autoreload extension is already loaded. To reload it, use:\n",
      "  %reload_ext autoreload\n"
     ]
    }
   ],
   "source": [
    "%load_ext autoreload\n",
    "%autoreload 2\n",
    "\n",
    "import numpy as np\n",
    "import pandas as pd\n",
    "import datetime\n",
    "import scipy.stats as stats\n",
    "\n",
    "#graphing\n",
    "import matplotlib.pyplot as plt\n",
    "#stats\n",
    "import statsmodels.api as sm\n",
    "from statsmodels.base.model import GenericLikelihoodModel\n",
    "\n",
    "#import testing\n",
    "import sys\n",
    "sys.path.append(\"../\")\n",
    "import selection_tests"
   ]
  },
  {
   "cell_type": "code",
   "execution_count": 7,
   "id": "a08e1d04",
   "metadata": {},
   "outputs": [
    {
     "name": "stdout",
     "output_type": "stream",
     "text": [
      "Index(['NperPstk', 'v01', 'v02a1', 'v02b1a', 'v02b1b', 'v02b1c', 'v02c1',\n",
      "       'v02a2', 'v02b2a', 'v02b2b',\n",
      "       ...\n",
      "       'rememberStreetPrize', 'know_winnersA', 'know_winnersB',\n",
      "       'num_neighbors_bot', 'num_neighbor_tixbot', 'neighbor_bot',\n",
      "       'num_neighbors_botA', 'neighbor_botA', 'pstk', 'codegroup'],\n",
      "      dtype='object', length=342)\n"
     ]
    }
   ],
   "source": [
    "#need to replicate table 3?\n",
    "lotto_raw = pd.read_stata('FinalAnon.dta')\n",
    "print(lotto_raw.columns)"
   ]
  },
  {
   "cell_type": "code",
   "execution_count": 8,
   "id": "e15dca43",
   "metadata": {},
   "outputs": [
    {
     "name": "stdout",
     "output_type": "stream",
     "text": [
      "(1879, 342) winner         0.118680\n",
      "winnings       0.220703\n",
      "sumwinnings    0.253965\n",
      "dtype: float64\n"
     ]
    }
   ],
   "source": [
    "lotto_data = lotto_raw.copy()\n",
    "lotto_data['winner']=0\n",
    "lotto_data['winner']= 1*( (lotto_data['buyer']>=1) & (lotto_data['win_code']>=1))\n",
    "lotto_data['winnings']= lotto_data['winner']*lotto_data['winnings']\n",
    "lotto_data['sumwinnings']= lotto_data['sumwinnings']*lotto_data['winner']\n",
    "\n",
    "#For the regressions, winnings are measured in euros/10000: \n",
    "lotto_data['winnings']=lotto_data['winnings']/10000\n",
    "print( lotto_data.shape, lotto_data[['winner','winnings','sumwinnings']].mean() )"
   ]
  },
  {
   "cell_type": "code",
   "execution_count": 9,
   "id": "611dcb79",
   "metadata": {},
   "outputs": [
    {
     "name": "stdout",
     "output_type": "stream",
     "text": [
      "1850\n",
      "2.1376288659793814\n",
      "(194, 342)\n"
     ]
    }
   ],
   "source": [
    "print((((lotto_data['winner']==1) & (lotto_data['winnings']==0))!=1).sum() )\n",
    "#Since it's not clear what is true for winners who report no winnings, drop these obs:\n",
    "lotto_data = lotto_data[  (((lotto_data['winner']==1) & (lotto_data['winnings']==0))!=1) ]\n",
    "lotto_data = lotto_data[  (((lotto_data['winner']==1) & (lotto_data['sumwinnings']==0))!=1) ]\n",
    "print(lotto_data[lotto_data['winner']==1]['winnings'].mean())\n",
    "print( lotto_data[lotto_data['winner']==1].shape)\n",
    "\n",
    "#NON-LOTTERY INCOME VARIABLE: \n",
    "#(note we use income last year, to avoid the problem that some hh included lottery winnings in current income)\n",
    "#rescale own income to be in same units as lottery winnings (euro/10000):\n",
    "lotto_data['inc_now']=lotto_data['inc_now']/10000\n",
    "lotto_data['inc_then']=lotto_data['inc_then']/10000"
   ]
  },
  {
   "cell_type": "code",
   "execution_count": 10,
   "id": "586d30c6",
   "metadata": {},
   "outputs": [
    {
     "name": "stdout",
     "output_type": "stream",
     "text": [
      "newcar\n",
      "sumwinnings    0.020825\n",
      "inc_then      -0.000222\n",
      "win_code       0.045983\n",
      "dtype: float64\n"
     ]
    }
   ],
   "source": [
    "for depvar in ['newcar']:\n",
    "    print(depvar)\n",
    "    ###############global covariates###################\n",
    "    global_cov = ['buyer','numtix','numtixsq',\n",
    "                  'partner_now', 'persons_now', 'kids', 'kids_sq', 'age_fam', 'age_famsq'] \n",
    "    global_cov = global_cov + ['ed'+str(i) for i in range(2,9)]\n",
    "    ####################################################\n",
    "    absorb = 'codegroup' \n",
    "    imporant_cov = ['sumwinnings','inc_then','win_code']\n",
    "\n",
    "    lotto_data_clean = lotto_data.copy()\n",
    "    #print(lotto_data_clean.shape)\n",
    "\n",
    "    lotto_data_clean = lotto_data_clean[lotto_data_clean['wonbmw']!=1]\n",
    "    #print(lotto_data_clean.shape)\n",
    "    #print(lotto_data_clean.shape)\n",
    "    #print(lotto_data_clean['newcar'].dropna().mean(),lotto_data_clean['newcar'].dropna().shape )\n",
    "    lotto_data_clean = sm.add_constant(lotto_data_clean[[depvar]+imporant_cov+global_cov +[absorb]])\n",
    "    lotto_data_clean = lotto_data_clean.dropna()\n",
    "\n",
    "    #should be 1389 observations?\n",
    "    y=lotto_data_clean[[depvar,absorb]]\n",
    "    ybar = y.mean()\n",
    "    y = y -  y.groupby(y[absorb]).transform('mean') + ybar\n",
    "    y = y[depvar]\n",
    "\n",
    "    X=lotto_data_clean[imporant_cov+['const']+global_cov+[absorb]]\n",
    "    Xbar = X.mean()\n",
    "    X = X - X.groupby(X[absorb]).transform('mean') + Xbar\n",
    "    X = X[imporant_cov+['const']+global_cov]\n",
    "\n",
    "    model = sm.OLS(y,X)\n",
    "    print(model.fit().params[0:3])"
   ]
  },
  {
   "cell_type": "code",
   "execution_count": 17,
   "id": "50f29552",
   "metadata": {},
   "outputs": [
    {
     "name": "stdout",
     "output_type": "stream",
     "text": [
      "win_code total\n",
      "sumwinnings    66.560904\n",
      "inc_then       43.429507\n",
      "win_code      -12.494975\n",
      "dtype: float64\n",
      "2896132060.810459\n",
      "-----\n",
      "num_winning_hh total\n",
      "sumwinnings       66.613600\n",
      "inc_then          43.257157\n",
      "num_winning_hh    -1.363182\n",
      "dtype: float64\n",
      "2895797717.391768\n",
      "-----\n",
      "W_le_25 total\n",
      "sumwinnings    66.884686\n",
      "inc_then       42.765821\n",
      "W_le_25        -1.514836\n",
      "dtype: float64\n",
      "2893981333.8554525\n",
      "-----\n",
      "neighbor_won total\n",
      "sumwinnings     62.932262\n",
      "inc_then        43.679099\n",
      "neighbor_won     8.957871\n",
      "dtype: float64\n",
      "2896158475.3831005\n",
      "-----\n",
      "win_code happy_now\n",
      "sumwinnings   -0.022629\n",
      "inc_then       0.124325\n",
      "win_code      -0.032256\n",
      "dtype: float64\n",
      "3953.881211316357\n",
      "-----\n",
      "num_winning_hh happy_now\n",
      "sumwinnings      -0.029405\n",
      "inc_then          0.124259\n",
      "num_winning_hh    0.000808\n",
      "dtype: float64\n",
      "3950.4136215086983\n",
      "-----\n",
      "W_le_25 happy_now\n",
      "sumwinnings   -0.015134\n",
      "inc_then       0.122252\n",
      "W_le_25       -0.006943\n",
      "dtype: float64\n",
      "3945.5832215740797\n",
      "-----\n",
      "neighbor_won happy_now\n",
      "sumwinnings    -0.046845\n",
      "inc_then        0.126759\n",
      "neighbor_won    0.172862\n",
      "dtype: float64\n",
      "3948.0893501551623\n",
      "-----\n"
     ]
    }
   ],
   "source": [
    "for depvar in ['total','happy_now']:\n",
    "    for nw in ['win_code','num_winning_hh','W_le_25','neighbor_won']:\n",
    "        ###############global covariates###################\n",
    "        global_cov = ['buyer','numtix','numtixsq',\n",
    "                      'partner_now', 'persons_now', 'kids', 'kids_sq', 'age_fam', 'age_famsq'] \n",
    "        global_cov = global_cov + ['ed'+str(i) for i in range(2,9)]\n",
    "        ####################################################\n",
    "        absorb = 'codegroup' \n",
    "        imporant_cov = ['sumwinnings','inc_then'] + [nw]\n",
    "\n",
    "        lotto_data_clean = lotto_data.copy()\n",
    "\n",
    "        #lotto_data_clean = lotto_data_clean[lotto_data_clean['wonbmw']!=1]\n",
    "        lotto_data_clean = sm.add_constant(lotto_data_clean[[depvar]+imporant_cov+global_cov +[absorb]])\n",
    "        lotto_data_clean = lotto_data_clean.dropna()\n",
    "\n",
    "        #should be 1389 observations?\n",
    "        y=lotto_data_clean[[depvar,absorb]]\n",
    "        ybar = y.mean()\n",
    "        y = y -  y.groupby(y[absorb]).transform('mean') + ybar\n",
    "        y = y[depvar]\n",
    "\n",
    "        X=lotto_data_clean[imporant_cov+['const']+global_cov+[absorb]]\n",
    "        Xbar = X.mean()\n",
    "        X = X - X.groupby(X[absorb]).transform('mean') + Xbar\n",
    "        X = X[imporant_cov+['const']+global_cov]\n",
    "\n",
    "        model = sm.OLS(y,X)\n",
    "        model_fit = model.fit()\n",
    "        print(nw,depvar)\n",
    "        print(model_fit.params[0:3])\n",
    "        print(model_fit.ssr)\n",
    "        print('-----')"
   ]
  },
  {
   "cell_type": "code",
   "execution_count": null,
   "id": "30da9176",
   "metadata": {},
   "outputs": [],
   "source": []
  }
 ],
 "metadata": {
  "kernelspec": {
   "display_name": "Python 3",
   "language": "python",
   "name": "python3"
  },
  "language_info": {
   "codemirror_mode": {
    "name": "ipython",
    "version": 3
   },
   "file_extension": ".py",
   "mimetype": "text/x-python",
   "name": "python",
   "nbconvert_exporter": "python",
   "pygments_lexer": "ipython3",
   "version": "3.8.8"
  }
 },
 "nbformat": 4,
 "nbformat_minor": 5
}
