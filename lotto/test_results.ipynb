{
 "cells": [
  {
   "cell_type": "code",
   "execution_count": 1,
   "metadata": {},
   "outputs": [],
   "source": [
    "%load_ext autoreload\n",
    "%autoreload 2\n",
    "\n",
    "import numpy as np\n",
    "import pandas as pd\n",
    "import datetime\n",
    "import scipy.stats as stats\n",
    "\n",
    "#graphing\n",
    "import matplotlib.pyplot as plt\n",
    "#stats\n",
    "import statsmodels.api as sm\n",
    "from statsmodels.base.model import GenericLikelihoodModel\n",
    "\n",
    "#import testing\n",
    "import sys\n",
    "sys.path.append(\"../\")\n",
    "import selection_tests"
   ]
  },
  {
   "cell_type": "code",
   "execution_count": 2,
   "metadata": {},
   "outputs": [
    {
     "name": "stdout",
     "output_type": "stream",
     "text": [
      "Index(['NperPstk', 'v01', 'v02a1', 'v02b1a', 'v02b1b', 'v02b1c', 'v02c1',\n",
      "       'v02a2', 'v02b2a', 'v02b2b',\n",
      "       ...\n",
      "       'rememberStreetPrize', 'know_winnersA', 'know_winnersB',\n",
      "       'num_neighbors_bot', 'num_neighbor_tixbot', 'neighbor_bot',\n",
      "       'num_neighbors_botA', 'neighbor_botA', 'pstk', 'codegroup'],\n",
      "      dtype='object', length=342)\n",
      "(1879, 342) winner         0.118680\n",
      "winnings       0.220703\n",
      "sumwinnings    0.253965\n",
      "dtype: float64\n",
      "1850\n",
      "2.1376288659793814\n",
      "(194, 342)\n"
     ]
    }
   ],
   "source": [
    "#need to replicate table 3?\n",
    "lotto_raw = pd.read_stata('FinalAnon.dta')\n",
    "print(lotto_raw.columns)\n",
    "\n",
    "lotto_data = lotto_raw.copy()\n",
    "lotto_data['winner']=0\n",
    "lotto_data['winner']= 1*( (lotto_data['buyer']>=1) & (lotto_data['win_code']>=1))\n",
    "lotto_data['winnings']= lotto_data['winner']*lotto_data['winnings']\n",
    "lotto_data['sumwinnings']= lotto_data['sumwinnings']*lotto_data['winner']\n",
    "\n",
    "#For the regressions, winnings are measured in euros/10000: \n",
    "lotto_data['winnings']=lotto_data['winnings']/10000\n",
    "print( lotto_data.shape, lotto_data[['winner','winnings','sumwinnings']].mean() )\n",
    "\n",
    "print((((lotto_data['winner']==1) & (lotto_data['winnings']==0))!=1).sum() )\n",
    "#Since it's not clear what is true for winners who report no winnings, drop these obs:\n",
    "lotto_data = lotto_data[  (((lotto_data['winner']==1) & (lotto_data['winnings']==0))!=1) ]\n",
    "lotto_data = lotto_data[  (((lotto_data['winner']==1) & (lotto_data['sumwinnings']==0))!=1) ]\n",
    "print(lotto_data[lotto_data['winner']==1]['winnings'].mean())\n",
    "print( lotto_data[lotto_data['winner']==1].shape)\n",
    "\n",
    "#NON-LOTTERY INCOME VARIABLE: \n",
    "#(note we use income last year, to avoid the problem that some hh included lottery winnings in current income)\n",
    "#rescale own income to be in same units as lottery winnings (euro/10000):\n",
    "lotto_data['inc_now']=lotto_data['inc_now']/10000\n",
    "lotto_data['inc_then']=lotto_data['inc_then']/10000"
   ]
  },
  {
   "cell_type": "code",
   "execution_count": 3,
   "metadata": {},
   "outputs": [],
   "source": [
    "class OLS_loglike(GenericLikelihoodModel):\n",
    "    \n",
    "    def __init__(self, *args,ols=False, **kwargs):\n",
    "        super(OLS_loglike,self).__init__(*args,**kwargs)\n",
    "        self.ols = ols\n",
    "\n",
    "    def loglikeobs(self, params):\n",
    "        y = self.endog\n",
    "        x = self.exog\n",
    "        mu_y = np.matmul(x,params)  \n",
    "        resid = y - mu_y\n",
    "        sigma = np.sqrt(np.sum(resid**2)/resid.shape[0])\n",
    "        pr_y = stats.norm.logpdf( resid, loc=0,scale=sigma )\n",
    "        return pr_y\n"
   ]
  },
  {
   "cell_type": "code",
   "execution_count": 4,
   "metadata": {
    "scrolled": false
   },
   "outputs": [
    {
     "name": "stderr",
     "output_type": "stream",
     "text": [
      "/home/erichschulman/anaconda3/lib/python3.9/site-packages/statsmodels/tsa/tsatools.py:142: FutureWarning: In a future version of pandas all arguments of concat except for the argument 'objs' will be keyword-only\n",
      "  x = pd.concat(x[::order], 1)\n"
     ]
    }
   ],
   "source": [
    "def setup_helper(data,depvar,nw):\n",
    "    ###############global covariates###################\n",
    "    global_cov = ['buyer','numtix','numtixsq',\n",
    "                  'partner_now', 'persons_now', 'kids', 'kids_sq', 'age_fam', 'age_famsq'] \n",
    "    global_cov = global_cov + ['ed'+str(i) for i in range(2,9)]\n",
    "    ####################################################\n",
    "    absorb = 'codegroup' \n",
    "    important_cov = ['sumwinnings','inc_then'] + [nw]\n",
    "\n",
    "    lotto_data_clean = data.copy()\n",
    "    if depvar == 'newcar':\n",
    "        lotto_data_clean = lotto_data_clean[lotto_data_clean['wonbmw']!=1]\n",
    "    lotto_data_clean = sm.add_constant(lotto_data_clean[[depvar]+important_cov+global_cov +[absorb]])\n",
    "    lotto_data_clean = lotto_data_clean.dropna()\n",
    "\n",
    "    #should be 1389 observations?\n",
    "    y=lotto_data_clean[[depvar,absorb]]\n",
    "    ybar = y.mean()\n",
    "    y = y -  y.groupby(y[absorb]).transform('mean') + ybar\n",
    "    y = y[depvar]\n",
    "\n",
    "    X=lotto_data_clean[important_cov+['const']+global_cov+[absorb]]\n",
    "    Xbar = X.mean()\n",
    "    X = X - X.groupby(X[absorb]).transform('mean') + Xbar\n",
    "    X = X[important_cov+['const']+global_cov]\n",
    "\n",
    "    return y,X\n",
    "\n",
    "\n",
    "def setup_test(yn,xn,depvar='happy_now' ):\n",
    "    \n",
    "    yn,x2n = setup_helper(xn.copy(), depvar,'neighbor_won')\n",
    "    yn,x1n = setup_helper(xn.copy(), depvar,'win_code')\n",
    "    # model 1 grad, etc.\n",
    "    model1 = sm.OLS(yn,x1n)\n",
    "    model1_fit = model1.fit(disp=False)\n",
    "    params1 = (model1_fit.params)\n",
    "    model1_deriv = OLS_loglike(yn,x1n)\n",
    "    ll1 = model1_deriv.loglikeobs(model1_fit.params)\n",
    "    grad1 =  model1_deriv.score_obs(model1_fit.params)    \n",
    "    hess1 = model1_deriv.hessian(model1_fit.params)\n",
    "\n",
    "    #model 2 grad, etc.\n",
    "    model2 = sm.OLS(yn,x2n)\n",
    "    model2_fit = model2.fit(disp=False)\n",
    "    params2 = (model2_fit.params)\n",
    "    model2_deriv = OLS_loglike(yn,x2n)\n",
    "    ll2 = model2_deriv.loglikeobs(model2_fit.params)\n",
    "    grad2 =  model2_deriv.score_obs(model2_fit.params)    \n",
    "    hess2 = model2_deriv.hessian(model2_fit.params)\n",
    "    return ll1,grad1,hess1,params1,ll2,grad2,hess2,params2\n",
    "\n",
    "\n",
    "#win_code total\n",
    "#neighbor_won total\n",
    "\n",
    "#win_code happy_now\n",
    "#neighbor_won happy_now\n",
    "\n",
    "ll1,grad1,hess1,params1,ll2,grad2,hess2,params2 = setup_test(lotto_data,lotto_data,depvar='newcar')"
   ]
  },
  {
   "cell_type": "code",
   "execution_count": 5,
   "metadata": {},
   "outputs": [
    {
     "name": "stdout",
     "output_type": "stream",
     "text": [
      "regular: test, llr, omega ----\n",
      "0.15499602439235502 0.2727632130792981 0.041711445238237284\n",
      "---- \n"
     ]
    },
    {
     "name": "stderr",
     "output_type": "stream",
     "text": [
      "/home/erichschulman/anaconda3/lib/python3.9/site-packages/statsmodels/tsa/tsatools.py:142: FutureWarning: In a future version of pandas all arguments of concat except for the argument 'objs' will be keyword-only\n",
      "  x = pd.concat(x[::order], 1)\n"
     ]
    },
    {
     "name": "stdout",
     "output_type": "stream",
     "text": [
      "\\begin{center}\n",
      "\\begin{tabular}{ccccc}\n",
      "\\toprule\n",
      "\\textbf{Version} & \\textbf{Result} & \\textbf{90 \\% CI} & \\textbf{95 \\% CI} & \\textbf{99 \\% CI} \\\\ \\midrule\n",
      "Shi (2015) & H0 & [-1.723, 2.274] & [-2.876, 3.427] & [-4.186, 4.736] \\\\\n",
      "Classical & H0 & [-1.490, 1.800] & [-1.804, 2.114] & [-2.421, 2.731] \\\\\n",
      "Bootstrap & H0 & [-1.403, 1.762] & [-1.767, 2.007] & [-2.637, 2.547] \\\\\n",
      "\\bottomrule\n",
      "\\end{tabular}\n",
      "\\end{center}\n",
      "None\n"
     ]
    }
   ],
   "source": [
    "setup_test3 = lambda yn,xn: setup_test(yn,xn,depvar='ext_reno')\n",
    "print(selection_tests.test_table(lotto_data,lotto_data,setup_test3))"
   ]
  },
  {
   "cell_type": "code",
   "execution_count": 6,
   "metadata": {},
   "outputs": [
    {
     "name": "stderr",
     "output_type": "stream",
     "text": [
      "/home/erichschulman/anaconda3/lib/python3.9/site-packages/statsmodels/tsa/tsatools.py:142: FutureWarning: In a future version of pandas all arguments of concat except for the argument 'objs' will be keyword-only\n",
      "  x = pd.concat(x[::order], 1)\n"
     ]
    },
    {
     "name": "stdout",
     "output_type": "stream",
     "text": [
      "regular: test, llr, omega ----\n",
      "-0.6980169536900935 -1.2731589621031527 0.04376397398773363\n",
      "---- \n"
     ]
    },
    {
     "name": "stderr",
     "output_type": "stream",
     "text": [
      "/home/erichschulman/anaconda3/lib/python3.9/site-packages/statsmodels/tsa/tsatools.py:142: FutureWarning: In a future version of pandas all arguments of concat except for the argument 'objs' will be keyword-only\n",
      "  x = pd.concat(x[::order], 1)\n",
      "/home/erichschulman/anaconda3/lib/python3.9/site-packages/statsmodels/tsa/tsatools.py:142: FutureWarning: In a future version of pandas all arguments of concat except for the argument 'objs' will be keyword-only\n",
      "  x = pd.concat(x[::order], 1)\n"
     ]
    },
    {
     "name": "stdout",
     "output_type": "stream",
     "text": [
      "\\begin{center}\n",
      "\\begin{tabular}{ccccc}\n",
      "\\toprule\n",
      "\\textbf{Version} & \\textbf{Result} & \\textbf{90 \\% CI} & \\textbf{95 \\% CI} & \\textbf{99 \\% CI} \\\\ \\midrule\n",
      "Shi (2015) & H0 & [-2.582, 1.107] & [-3.194, 1.719] & [-4.521, 3.046] \\\\\n",
      "Classical & H0 & [-2.343, 0.947] & [-2.657, 1.261] & [-3.274, 1.878] \\\\\n",
      "Bootstrap & H0 & [-2.398, 0.918] & [-2.687, 1.231] & [-3.206, 1.901] \\\\\n",
      "\\bottomrule\n",
      "\\end{tabular}\n",
      "\\end{center}\n",
      "None\n"
     ]
    },
    {
     "name": "stderr",
     "output_type": "stream",
     "text": [
      "/home/erichschulman/anaconda3/lib/python3.9/site-packages/statsmodels/tsa/tsatools.py:142: FutureWarning: In a future version of pandas all arguments of concat except for the argument 'objs' will be keyword-only\n",
      "  x = pd.concat(x[::order], 1)\n"
     ]
    },
    {
     "name": "stdout",
     "output_type": "stream",
     "text": [
      "regular: test, llr, omega ----\n",
      "0.031864184961234415 0.007378562636340291 0.005756780828434276\n",
      "---- \n"
     ]
    },
    {
     "name": "stderr",
     "output_type": "stream",
     "text": [
      "/home/erichschulman/anaconda3/lib/python3.9/site-packages/statsmodels/tsa/tsatools.py:142: FutureWarning: In a future version of pandas all arguments of concat except for the argument 'objs' will be keyword-only\n",
      "  x = pd.concat(x[::order], 1)\n",
      "/home/erichschulman/anaconda3/lib/python3.9/site-packages/statsmodels/tsa/tsatools.py:142: FutureWarning: In a future version of pandas all arguments of concat except for the argument 'objs' will be keyword-only\n",
      "  x = pd.concat(x[::order], 1)\n"
     ]
    },
    {
     "name": "stdout",
     "output_type": "stream",
     "text": [
      "\\begin{center}\n",
      "\\begin{tabular}{ccccc}\n",
      "\\toprule\n",
      "\\textbf{Version} & \\textbf{Result} & \\textbf{90 \\% CI} & \\textbf{95 \\% CI} & \\textbf{99 \\% CI} \\\\ \\midrule\n",
      "Shi (2015) & H0 & [-1.888, 2.051] & [-2.282, 2.445] & [-5.626, 5.789] \\\\\n",
      "Classical & H0 & [-1.613, 1.677] & [-1.927, 1.991] & [-2.544, 2.608] \\\\\n",
      "Bootstrap & H0 & [-1.503, 1.749] & [-1.800, 2.041] & [-2.419, 2.974] \\\\\n",
      "\\bottomrule\n",
      "\\end{tabular}\n",
      "\\end{center}\n",
      "None\n"
     ]
    },
    {
     "name": "stderr",
     "output_type": "stream",
     "text": [
      "/home/erichschulman/anaconda3/lib/python3.9/site-packages/statsmodels/tsa/tsatools.py:142: FutureWarning: In a future version of pandas all arguments of concat except for the argument 'objs' will be keyword-only\n",
      "  x = pd.concat(x[::order], 1)\n"
     ]
    },
    {
     "name": "stdout",
     "output_type": "stream",
     "text": [
      "regular: test, llr, omega ----\n",
      "-0.5270234080196616 -1.1001998981381456 0.05601322426309195\n",
      "---- \n"
     ]
    },
    {
     "name": "stderr",
     "output_type": "stream",
     "text": [
      "/home/erichschulman/anaconda3/lib/python3.9/site-packages/statsmodels/tsa/tsatools.py:142: FutureWarning: In a future version of pandas all arguments of concat except for the argument 'objs' will be keyword-only\n",
      "  x = pd.concat(x[::order], 1)\n"
     ]
    },
    {
     "name": "stdout",
     "output_type": "stream",
     "text": [
      "\\begin{center}\n",
      "\\begin{tabular}{ccccc}\n",
      "\\toprule\n",
      "\\textbf{Version} & \\textbf{Result} & \\textbf{90 \\% CI} & \\textbf{95 \\% CI} & \\textbf{99 \\% CI} \\\\ \\midrule\n",
      "Shi (2015) & H0 & [-2.498, 1.501] & [-3.219, 2.222] & [-4.753, 3.756] \\\\\n",
      "Classical & H0 & [-2.172, 1.118] & [-2.486, 1.432] & [-3.103, 2.049] \\\\\n",
      "Bootstrap & H0 & [-2.232, 1.041] & [-2.491, 1.320] & [-2.889, 1.841] \\\\\n",
      "\\bottomrule\n",
      "\\end{tabular}\n",
      "\\end{center}\n",
      "None\n"
     ]
    }
   ],
   "source": [
    "print(selection_tests.test_table(lotto_data,lotto_data,setup_test))\n",
    "setup_test1 = lambda yn,xn: setup_test(yn,xn,depvar='total')\n",
    "print(selection_tests.test_table(lotto_data,lotto_data,setup_test1))\n",
    "setup_test2 = lambda yn,xn: setup_test(yn,xn,depvar='newcar')\n",
    "print(selection_tests.test_table(lotto_data,lotto_data,setup_test2))\n"
   ]
  },
  {
   "cell_type": "code",
   "execution_count": null,
   "metadata": {},
   "outputs": [],
   "source": []
  },
  {
   "cell_type": "code",
   "execution_count": null,
   "metadata": {},
   "outputs": [],
   "source": []
  },
  {
   "cell_type": "code",
   "execution_count": null,
   "metadata": {},
   "outputs": [],
   "source": []
  }
 ],
 "metadata": {
  "kernelspec": {
   "display_name": "Python 3 (ipykernel)",
   "language": "python",
   "name": "python3"
  },
  "language_info": {
   "codemirror_mode": {
    "name": "ipython",
    "version": 3
   },
   "file_extension": ".py",
   "mimetype": "text/x-python",
   "name": "python",
   "nbconvert_exporter": "python",
   "pygments_lexer": "ipython3",
   "version": "3.9.7"
  }
 },
 "nbformat": 4,
 "nbformat_minor": 2
}
